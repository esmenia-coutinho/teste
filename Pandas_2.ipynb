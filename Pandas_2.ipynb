{
 "cells": [
  {
   "cell_type": "markdown",
   "metadata": {},
   "source": [
    "### Vamos criar um passo a passo para um notebook utilizando a arquitetura Medallion com pandas, dividindo o processo em camadas Bronze, Silver e Gold."
   ]
  },
  {
   "cell_type": "markdown",
   "metadata": {},
   "source": [
    "## Bronze: Dados Brutos\n",
    "Nesta etapa, apenas carregamos os dados brutos(csv) na LandingZone para a camada Bronze e os salvamos em um arquivo Parquet."
   ]
  },
  {
   "cell_type": "markdown",
   "metadata": {},
   "source": [
    "### Instalando a Biblioteca pyarrow\n",
    "Primeiro, vamos instalar a biblioteca pyarrow. Você pode fazer isso usando pip:"
   ]
  },
  {
   "cell_type": "code",
   "execution_count": 56,
   "metadata": {},
   "outputs": [
    {
     "name": "stdout",
     "output_type": "stream",
     "text": [
      "Requirement already satisfied: pyarrow in c:\\users\\andre\\appdata\\local\\packages\\pythonsoftwarefoundation.python.3.11_qbz5n2kfra8p0\\localcache\\local-packages\\python311\\site-packages (18.1.0)\n"
     ]
    },
    {
     "name": "stderr",
     "output_type": "stream",
     "text": [
      "\n",
      "[notice] A new release of pip is available: 24.0 -> 24.3.1\n",
      "[notice] To update, run: C:\\Users\\andre\\AppData\\Local\\Microsoft\\WindowsApps\\PythonSoftwareFoundation.Python.3.11_qbz5n2kfra8p0\\python.exe -m pip install --upgrade pip\n"
     ]
    },
    {
     "name": "stdout",
     "output_type": "stream",
     "text": [
      "Requirement already satisfied: pandas in c:\\users\\andre\\appdata\\local\\packages\\pythonsoftwarefoundation.python.3.11_qbz5n2kfra8p0\\localcache\\local-packages\\python311\\site-packages (2.2.2)\n",
      "Requirement already satisfied: numpy>=1.23.2 in c:\\users\\andre\\appdata\\local\\packages\\pythonsoftwarefoundation.python.3.11_qbz5n2kfra8p0\\localcache\\local-packages\\python311\\site-packages (from pandas) (2.1.0)\n",
      "Requirement already satisfied: python-dateutil>=2.8.2 in c:\\users\\andre\\appdata\\local\\packages\\pythonsoftwarefoundation.python.3.11_qbz5n2kfra8p0\\localcache\\local-packages\\python311\\site-packages (from pandas) (2.9.0.post0)\n",
      "Requirement already satisfied: pytz>=2020.1 in c:\\users\\andre\\appdata\\local\\packages\\pythonsoftwarefoundation.python.3.11_qbz5n2kfra8p0\\localcache\\local-packages\\python311\\site-packages (from pandas) (2024.1)\n",
      "Requirement already satisfied: tzdata>=2022.7 in c:\\users\\andre\\appdata\\local\\packages\\pythonsoftwarefoundation.python.3.11_qbz5n2kfra8p0\\localcache\\local-packages\\python311\\site-packages (from pandas) (2024.1)\n",
      "Requirement already satisfied: six>=1.5 in c:\\users\\andre\\appdata\\local\\packages\\pythonsoftwarefoundation.python.3.11_qbz5n2kfra8p0\\localcache\\local-packages\\python311\\site-packages (from python-dateutil>=2.8.2->pandas) (1.16.0)\n"
     ]
    },
    {
     "name": "stderr",
     "output_type": "stream",
     "text": [
      "\n",
      "[notice] A new release of pip is available: 24.0 -> 24.3.1\n",
      "[notice] To update, run: C:\\Users\\andre\\AppData\\Local\\Microsoft\\WindowsApps\\PythonSoftwareFoundation.Python.3.11_qbz5n2kfra8p0\\python.exe -m pip install --upgrade pip\n"
     ]
    }
   ],
   "source": [
    "!pip install pyarrow\n",
    "!pip install pandas\n"
   ]
  },
  {
   "cell_type": "code",
   "execution_count": 57,
   "metadata": {},
   "outputs": [],
   "source": [
    "import pandas as pd\n",
    "import numpy as np\n",
    "import os "
   ]
  },
  {
   "cell_type": "markdown",
   "metadata": {
    "vscode": {
     "languageId": "html"
    }
   },
   "source": [
    "## Etapa 1: Ler arquivo CSV com pandas e salvar em formato Parquet\n",
    "### Primeiro, precisamos ler o arquivo CSV e salvá-lo no formato Parquet.\n",
    "### Leitura dos dados brutos da camada Landing Zone\n",
    "\n",
    "### Ler e salvar arquivo FCX (LZ para Bronze)"
   ]
  },
  {
   "cell_type": "code",
   "execution_count": 58,
   "metadata": {},
   "outputs": [
    {
     "name": "stdout",
     "output_type": "stream",
     "text": [
      "Arquivo salvo em C:\\Fonte Dados\\fcx\\bronze\\fcx.parquet\n"
     ]
    }
   ],
   "source": [
    "import pandas as pd\n",
    "import os\n",
    "\n",
    "# Define caminhos para os arquivos\n",
    "csv_path = r\"C:\\Fonte Dados\\fcx\\landingzone\\fcx.csv\"\n",
    "parquet_path = r\"C:\\Fonte Dados\\fcx\\bronze\\fcx.parquet\"\n",
    "\n",
    "# Cria diretórios caso não existam\n",
    "os.makedirs(os.path.dirname(parquet_path), exist_ok=True)\n",
    "\n",
    "# Lê o arquivo CSV\n",
    "df_bronze_fcx = pd.read_csv(csv_path)\n",
    "\n",
    "# Salva no formato Parquet\n",
    "df_bronze_fcx.to_parquet(parquet_path, index=False)\n",
    "print(f\"Arquivo salvo em {parquet_path}\")\n",
    "\n"
   ]
  },
  {
   "cell_type": "markdown",
   "metadata": {},
   "source": [
    "### Ler e salvar arquivo Pessoas (LZ para Bronze)"
   ]
  },
  {
   "cell_type": "code",
   "execution_count": 59,
   "metadata": {},
   "outputs": [
    {
     "name": "stdout",
     "output_type": "stream",
     "text": [
      "Arquivo salvo em C:\\Fonte Dados\\fcx\\bronze\\pessoas.parquet\n"
     ]
    }
   ],
   "source": [
    "\n",
    "\n",
    "# Define caminhos para os arquivos\n",
    "csv_path = r\"C:\\Fonte Dados\\fcx\\landingzone\\pessoas.csv\"\n",
    "parquet_path = r\"C:\\Fonte Dados\\fcx\\bronze\\pessoas.parquet\"\n",
    "\n",
    "# Cria diretórios caso não existam\n",
    "os.makedirs(os.path.dirname(parquet_path), exist_ok=True)\n",
    "\n",
    "# Lê o arquivo CSV\n",
    "df_bronze_pessoas = pd.read_csv(csv_path)\n",
    "\n",
    "# Salva no formato Parquet\n",
    "df_bronze_pessoas.to_parquet(parquet_path, index=False)\n",
    "print(f\"Arquivo salvo em {parquet_path}\")\n"
   ]
  },
  {
   "cell_type": "markdown",
   "metadata": {},
   "source": [
    "### Exibir as primeiras 10 linhas do DataFrame "
   ]
  },
  {
   "cell_type": "code",
   "execution_count": 60,
   "metadata": {},
   "outputs": [
    {
     "name": "stdout",
     "output_type": "stream",
     "text": [
      "   documento  cod_clifor tipo_doc   valor data_emissão data_vencimento  \\\n",
      "0          1          72    pagar  720472   2023-06-25      2025-09-09   \n",
      "1          2         257    pagar  403513   2023-11-26      2025-02-19   \n",
      "2          3          84  receber  471821   2024-05-16      2025-08-17   \n",
      "3          4         255    pagar  562586   2023-07-09      2023-09-13   \n",
      "4          5         207  receber  341262   2023-10-07      2024-04-04   \n",
      "5          6          63    pagar  153930   2023-10-30      2024-01-19   \n",
      "6          7         364    pagar  259469   2024-06-13      2025-03-19   \n",
      "7          8         224    pagar   96075   2023-12-18      2025-08-29   \n",
      "8          9         356    pagar  793772   2023-10-25      2024-10-09   \n",
      "9         10         198  receber  148451   2023-03-07      2025-11-24   \n",
      "\n",
      "  data_pagamento condicao_pagamento  \n",
      "0     2024-07-26            à vista  \n",
      "1     2024-08-28            à vista  \n",
      "2     2025-06-22          parcelado  \n",
      "3     2024-02-11          parcelado  \n",
      "4     2024-01-27            à vista  \n",
      "5     2025-07-08          parcelado  \n",
      "6     2025-04-16            à vista  \n",
      "7     2024-02-14          parcelado  \n",
      "8     2025-01-02            à vista  \n",
      "9     2024-12-21            à vista  \n"
     ]
    }
   ],
   "source": [
    "print(df_bronze.head(10))"
   ]
  },
  {
   "cell_type": "markdown",
   "metadata": {},
   "source": [
    "### Etapa 2: Desnormalizar dados e criar camada silver\n",
    "### Define caminhos"
   ]
  },
  {
   "cell_type": "code",
   "execution_count": 61,
   "metadata": {},
   "outputs": [],
   "source": [
    "silver_path = r\"C:\\Fonte Dados\\fcx\\silver\" \n",
    "bronze_path = r\"C:\\Fonte Dados\\fcx\\bronze\\fcx.parquet\"\n",
    "bronze_path_pessoas = r\"C:\\Fonte Dados\\fcx\\bronze\\pessoas.parquet\"\n"
   ]
  },
  {
   "cell_type": "code",
   "execution_count": 62,
   "metadata": {},
   "outputs": [],
   "source": [
    "# Cria diretórios caso não existam \n",
    "os.makedirs(silver_path, exist_ok=True)"
   ]
  },
  {
   "cell_type": "code",
   "execution_count": 63,
   "metadata": {},
   "outputs": [],
   "source": [
    "# Lê o arquivo Parquet \n",
    "df_silver = pd.read_parquet(bronze_path)\n",
    "df_silver_pessoas = pd.read_parquet(bronze_path_pessoas)"
   ]
  },
  {
   "cell_type": "markdown",
   "metadata": {},
   "source": [
    "## Ler arquivo Parquet na camada Bronze e Salvar desnormalizado na camadas Silver em tabelas \n",
    "### Dimensões\n",
    "Pessoas (cod_clifor, nomeclifor)\n",
    "CondicaoPagamento (condicao_pagamento)\n",
    "TipoDoc (tipo_doc  )\n",
    "### Fatos\n",
    "Fato_fcx ( documento, cod_clifor,tipo_doc ,valor, data_emissão,data_vencimento,data_pagamento condicao_pagamento)"
   ]
  },
  {
   "cell_type": "code",
   "execution_count": 64,
   "metadata": {},
   "outputs": [],
   "source": [
    "# Cria as dimensões \n",
    "#Pessoas\n",
    "df_pessoas = df_silver_pessoas[['cod_clifor', 'nomeclifor']].drop_duplicates() \n",
    "#Condicao de Pagamento\n",
    "df_condicao_pagamento = df_silver[['condicao_pagamento']].drop_duplicates() \n",
    "#Tipo de documento\n",
    "df_tipo_doc = df_silver[['tipo_doc']].drop_duplicates()"
   ]
  },
  {
   "cell_type": "code",
   "execution_count": 65,
   "metadata": {},
   "outputs": [
    {
     "data": {
      "text/html": [
       "<div>\n",
       "<style scoped>\n",
       "    .dataframe tbody tr th:only-of-type {\n",
       "        vertical-align: middle;\n",
       "    }\n",
       "\n",
       "    .dataframe tbody tr th {\n",
       "        vertical-align: top;\n",
       "    }\n",
       "\n",
       "    .dataframe thead th {\n",
       "        text-align: right;\n",
       "    }\n",
       "</style>\n",
       "<table border=\"1\" class=\"dataframe\">\n",
       "  <thead>\n",
       "    <tr style=\"text-align: right;\">\n",
       "      <th></th>\n",
       "      <th>cod_clifor</th>\n",
       "      <th>nomeclifor</th>\n",
       "    </tr>\n",
       "  </thead>\n",
       "  <tbody>\n",
       "    <tr>\n",
       "      <th>0</th>\n",
       "      <td>1</td>\n",
       "      <td>Larissa da Cruz</td>\n",
       "    </tr>\n",
       "    <tr>\n",
       "      <th>1</th>\n",
       "      <td>2</td>\n",
       "      <td>João Teixeira</td>\n",
       "    </tr>\n",
       "    <tr>\n",
       "      <th>2</th>\n",
       "      <td>3</td>\n",
       "      <td>Lorenzo Santos</td>\n",
       "    </tr>\n",
       "    <tr>\n",
       "      <th>3</th>\n",
       "      <td>4</td>\n",
       "      <td>Maria Cecília Nunes</td>\n",
       "    </tr>\n",
       "    <tr>\n",
       "      <th>4</th>\n",
       "      <td>5</td>\n",
       "      <td>Guilherme da Cunha</td>\n",
       "    </tr>\n",
       "    <tr>\n",
       "      <th>...</th>\n",
       "      <td>...</td>\n",
       "      <td>...</td>\n",
       "    </tr>\n",
       "    <tr>\n",
       "      <th>530</th>\n",
       "      <td>531</td>\n",
       "      <td>Lucas Aragão</td>\n",
       "    </tr>\n",
       "    <tr>\n",
       "      <th>531</th>\n",
       "      <td>532</td>\n",
       "      <td>Arthur Santos</td>\n",
       "    </tr>\n",
       "    <tr>\n",
       "      <th>532</th>\n",
       "      <td>533</td>\n",
       "      <td>Luara Costela</td>\n",
       "    </tr>\n",
       "    <tr>\n",
       "      <th>533</th>\n",
       "      <td>534</td>\n",
       "      <td>Milena Alves</td>\n",
       "    </tr>\n",
       "    <tr>\n",
       "      <th>534</th>\n",
       "      <td>535</td>\n",
       "      <td>Sra. Liz da Cruz</td>\n",
       "    </tr>\n",
       "  </tbody>\n",
       "</table>\n",
       "<p>535 rows × 2 columns</p>\n",
       "</div>"
      ],
      "text/plain": [
       "     cod_clifor           nomeclifor\n",
       "0             1      Larissa da Cruz\n",
       "1             2        João Teixeira\n",
       "2             3       Lorenzo Santos\n",
       "3             4  Maria Cecília Nunes\n",
       "4             5   Guilherme da Cunha\n",
       "..          ...                  ...\n",
       "530         531         Lucas Aragão\n",
       "531         532        Arthur Santos\n",
       "532         533        Luara Costela\n",
       "533         534         Milena Alves\n",
       "534         535     Sra. Liz da Cruz\n",
       "\n",
       "[535 rows x 2 columns]"
      ]
     },
     "execution_count": 65,
     "metadata": {},
     "output_type": "execute_result"
    }
   ],
   "source": [
    "df_pessoas"
   ]
  },
  {
   "cell_type": "code",
   "execution_count": 66,
   "metadata": {},
   "outputs": [
    {
     "name": "stdout",
     "output_type": "stream",
     "text": [
      "     cod_clifor      nomeclifor\n",
      "373         374  Melina Sampaio\n"
     ]
    }
   ],
   "source": [
    "# Filtrando pelo valor específico de cod_clifor (exemplo: 374)\n",
    "df_selecionado = df_pessoas[df_pessoas['cod_clifor'] == 374]\n",
    "\n",
    "# Exibindo o resultado\n",
    "print(df_selecionado)\n"
   ]
  },
  {
   "cell_type": "code",
   "execution_count": 67,
   "metadata": {},
   "outputs": [
    {
     "data": {
      "text/html": [
       "<div>\n",
       "<style scoped>\n",
       "    .dataframe tbody tr th:only-of-type {\n",
       "        vertical-align: middle;\n",
       "    }\n",
       "\n",
       "    .dataframe tbody tr th {\n",
       "        vertical-align: top;\n",
       "    }\n",
       "\n",
       "    .dataframe thead th {\n",
       "        text-align: right;\n",
       "    }\n",
       "</style>\n",
       "<table border=\"1\" class=\"dataframe\">\n",
       "  <thead>\n",
       "    <tr style=\"text-align: right;\">\n",
       "      <th></th>\n",
       "      <th>condicao_pagamento</th>\n",
       "    </tr>\n",
       "  </thead>\n",
       "  <tbody>\n",
       "    <tr>\n",
       "      <th>0</th>\n",
       "      <td>à vista</td>\n",
       "    </tr>\n",
       "    <tr>\n",
       "      <th>2</th>\n",
       "      <td>parcelado</td>\n",
       "    </tr>\n",
       "  </tbody>\n",
       "</table>\n",
       "</div>"
      ],
      "text/plain": [
       "  condicao_pagamento\n",
       "0            à vista\n",
       "2          parcelado"
      ]
     },
     "execution_count": 67,
     "metadata": {},
     "output_type": "execute_result"
    }
   ],
   "source": [
    "df_condicao_pagamento"
   ]
  },
  {
   "cell_type": "code",
   "execution_count": 68,
   "metadata": {},
   "outputs": [
    {
     "data": {
      "text/html": [
       "<div>\n",
       "<style scoped>\n",
       "    .dataframe tbody tr th:only-of-type {\n",
       "        vertical-align: middle;\n",
       "    }\n",
       "\n",
       "    .dataframe tbody tr th {\n",
       "        vertical-align: top;\n",
       "    }\n",
       "\n",
       "    .dataframe thead th {\n",
       "        text-align: right;\n",
       "    }\n",
       "</style>\n",
       "<table border=\"1\" class=\"dataframe\">\n",
       "  <thead>\n",
       "    <tr style=\"text-align: right;\">\n",
       "      <th></th>\n",
       "      <th>tipo_doc</th>\n",
       "    </tr>\n",
       "  </thead>\n",
       "  <tbody>\n",
       "    <tr>\n",
       "      <th>0</th>\n",
       "      <td>pagar</td>\n",
       "    </tr>\n",
       "    <tr>\n",
       "      <th>2</th>\n",
       "      <td>receber</td>\n",
       "    </tr>\n",
       "  </tbody>\n",
       "</table>\n",
       "</div>"
      ],
      "text/plain": [
       "  tipo_doc\n",
       "0    pagar\n",
       "2  receber"
      ]
     },
     "execution_count": 68,
     "metadata": {},
     "output_type": "execute_result"
    }
   ],
   "source": [
    "df_tipo_doc"
   ]
  },
  {
   "cell_type": "code",
   "execution_count": 69,
   "metadata": {},
   "outputs": [
    {
     "data": {
      "text/html": [
       "<div>\n",
       "<style scoped>\n",
       "    .dataframe tbody tr th:only-of-type {\n",
       "        vertical-align: middle;\n",
       "    }\n",
       "\n",
       "    .dataframe tbody tr th {\n",
       "        vertical-align: top;\n",
       "    }\n",
       "\n",
       "    .dataframe thead th {\n",
       "        text-align: right;\n",
       "    }\n",
       "</style>\n",
       "<table border=\"1\" class=\"dataframe\">\n",
       "  <thead>\n",
       "    <tr style=\"text-align: right;\">\n",
       "      <th></th>\n",
       "      <th>cod_clifor</th>\n",
       "      <th>nomeclifor</th>\n",
       "    </tr>\n",
       "  </thead>\n",
       "  <tbody>\n",
       "    <tr>\n",
       "      <th>201</th>\n",
       "      <td>202</td>\n",
       "      <td>Fernanda Teixeira</td>\n",
       "    </tr>\n",
       "  </tbody>\n",
       "</table>\n",
       "</div>"
      ],
      "text/plain": [
       "     cod_clifor         nomeclifor\n",
       "201         202  Fernanda Teixeira"
      ]
     },
     "execution_count": 69,
     "metadata": {},
     "output_type": "execute_result"
    }
   ],
   "source": [
    "df_filtrado = df_pessoas[df_pessoas[\"cod_clifor\"] == 202]\n",
    "df_filtrado"
   ]
  },
  {
   "cell_type": "markdown",
   "metadata": {},
   "source": [
    "# Cria a dataframe fato "
   ]
  },
  {
   "cell_type": "code",
   "execution_count": 70,
   "metadata": {},
   "outputs": [],
   "source": [
    "df_fato_fcx = df_silver[['documento', 'cod_clifor', 'tipo_doc', 'valor', 'data_emissão', 'data_vencimento', 'data_pagamento', 'condicao_pagamento']]"
   ]
  },
  {
   "cell_type": "code",
   "execution_count": 71,
   "metadata": {},
   "outputs": [
    {
     "data": {
      "text/html": [
       "<div>\n",
       "<style scoped>\n",
       "    .dataframe tbody tr th:only-of-type {\n",
       "        vertical-align: middle;\n",
       "    }\n",
       "\n",
       "    .dataframe tbody tr th {\n",
       "        vertical-align: top;\n",
       "    }\n",
       "\n",
       "    .dataframe thead th {\n",
       "        text-align: right;\n",
       "    }\n",
       "</style>\n",
       "<table border=\"1\" class=\"dataframe\">\n",
       "  <thead>\n",
       "    <tr style=\"text-align: right;\">\n",
       "      <th></th>\n",
       "      <th>documento</th>\n",
       "      <th>cod_clifor</th>\n",
       "      <th>tipo_doc</th>\n",
       "      <th>valor</th>\n",
       "      <th>data_emissão</th>\n",
       "      <th>data_vencimento</th>\n",
       "      <th>data_pagamento</th>\n",
       "      <th>condicao_pagamento</th>\n",
       "    </tr>\n",
       "  </thead>\n",
       "  <tbody>\n",
       "    <tr>\n",
       "      <th>0</th>\n",
       "      <td>1</td>\n",
       "      <td>72</td>\n",
       "      <td>pagar</td>\n",
       "      <td>720472</td>\n",
       "      <td>2023-06-25</td>\n",
       "      <td>2025-09-09</td>\n",
       "      <td>2024-07-26</td>\n",
       "      <td>à vista</td>\n",
       "    </tr>\n",
       "    <tr>\n",
       "      <th>1</th>\n",
       "      <td>2</td>\n",
       "      <td>257</td>\n",
       "      <td>pagar</td>\n",
       "      <td>403513</td>\n",
       "      <td>2023-11-26</td>\n",
       "      <td>2025-02-19</td>\n",
       "      <td>2024-08-28</td>\n",
       "      <td>à vista</td>\n",
       "    </tr>\n",
       "    <tr>\n",
       "      <th>2</th>\n",
       "      <td>3</td>\n",
       "      <td>84</td>\n",
       "      <td>receber</td>\n",
       "      <td>471821</td>\n",
       "      <td>2024-05-16</td>\n",
       "      <td>2025-08-17</td>\n",
       "      <td>2025-06-22</td>\n",
       "      <td>parcelado</td>\n",
       "    </tr>\n",
       "    <tr>\n",
       "      <th>3</th>\n",
       "      <td>4</td>\n",
       "      <td>255</td>\n",
       "      <td>pagar</td>\n",
       "      <td>562586</td>\n",
       "      <td>2023-07-09</td>\n",
       "      <td>2023-09-13</td>\n",
       "      <td>2024-02-11</td>\n",
       "      <td>parcelado</td>\n",
       "    </tr>\n",
       "    <tr>\n",
       "      <th>4</th>\n",
       "      <td>5</td>\n",
       "      <td>207</td>\n",
       "      <td>receber</td>\n",
       "      <td>341262</td>\n",
       "      <td>2023-10-07</td>\n",
       "      <td>2024-04-04</td>\n",
       "      <td>2024-01-27</td>\n",
       "      <td>à vista</td>\n",
       "    </tr>\n",
       "    <tr>\n",
       "      <th>...</th>\n",
       "      <td>...</td>\n",
       "      <td>...</td>\n",
       "      <td>...</td>\n",
       "      <td>...</td>\n",
       "      <td>...</td>\n",
       "      <td>...</td>\n",
       "      <td>...</td>\n",
       "      <td>...</td>\n",
       "    </tr>\n",
       "    <tr>\n",
       "      <th>99995</th>\n",
       "      <td>99996</td>\n",
       "      <td>61</td>\n",
       "      <td>receber</td>\n",
       "      <td>47817</td>\n",
       "      <td>2023-06-08</td>\n",
       "      <td>2024-10-01</td>\n",
       "      <td>2025-10-24</td>\n",
       "      <td>à vista</td>\n",
       "    </tr>\n",
       "    <tr>\n",
       "      <th>99996</th>\n",
       "      <td>99997</td>\n",
       "      <td>44</td>\n",
       "      <td>receber</td>\n",
       "      <td>445668</td>\n",
       "      <td>2024-10-15</td>\n",
       "      <td>2025-01-17</td>\n",
       "      <td>2025-04-27</td>\n",
       "      <td>parcelado</td>\n",
       "    </tr>\n",
       "    <tr>\n",
       "      <th>99997</th>\n",
       "      <td>99998</td>\n",
       "      <td>324</td>\n",
       "      <td>pagar</td>\n",
       "      <td>209812</td>\n",
       "      <td>2023-10-28</td>\n",
       "      <td>2025-03-06</td>\n",
       "      <td>2024-11-13</td>\n",
       "      <td>à vista</td>\n",
       "    </tr>\n",
       "    <tr>\n",
       "      <th>99998</th>\n",
       "      <td>99999</td>\n",
       "      <td>16</td>\n",
       "      <td>receber</td>\n",
       "      <td>753606</td>\n",
       "      <td>2023-11-25</td>\n",
       "      <td>2025-06-27</td>\n",
       "      <td>2024-03-18</td>\n",
       "      <td>parcelado</td>\n",
       "    </tr>\n",
       "    <tr>\n",
       "      <th>99999</th>\n",
       "      <td>100000</td>\n",
       "      <td>61</td>\n",
       "      <td>receber</td>\n",
       "      <td>773385</td>\n",
       "      <td>2024-01-09</td>\n",
       "      <td>2024-06-30</td>\n",
       "      <td>2024-04-06</td>\n",
       "      <td>parcelado</td>\n",
       "    </tr>\n",
       "  </tbody>\n",
       "</table>\n",
       "<p>100000 rows × 8 columns</p>\n",
       "</div>"
      ],
      "text/plain": [
       "       documento  cod_clifor tipo_doc   valor data_emissão data_vencimento  \\\n",
       "0              1          72    pagar  720472   2023-06-25      2025-09-09   \n",
       "1              2         257    pagar  403513   2023-11-26      2025-02-19   \n",
       "2              3          84  receber  471821   2024-05-16      2025-08-17   \n",
       "3              4         255    pagar  562586   2023-07-09      2023-09-13   \n",
       "4              5         207  receber  341262   2023-10-07      2024-04-04   \n",
       "...          ...         ...      ...     ...          ...             ...   \n",
       "99995      99996          61  receber   47817   2023-06-08      2024-10-01   \n",
       "99996      99997          44  receber  445668   2024-10-15      2025-01-17   \n",
       "99997      99998         324    pagar  209812   2023-10-28      2025-03-06   \n",
       "99998      99999          16  receber  753606   2023-11-25      2025-06-27   \n",
       "99999     100000          61  receber  773385   2024-01-09      2024-06-30   \n",
       "\n",
       "      data_pagamento condicao_pagamento  \n",
       "0         2024-07-26            à vista  \n",
       "1         2024-08-28            à vista  \n",
       "2         2025-06-22          parcelado  \n",
       "3         2024-02-11          parcelado  \n",
       "4         2024-01-27            à vista  \n",
       "...              ...                ...  \n",
       "99995     2025-10-24            à vista  \n",
       "99996     2025-04-27          parcelado  \n",
       "99997     2024-11-13            à vista  \n",
       "99998     2024-03-18          parcelado  \n",
       "99999     2024-04-06          parcelado  \n",
       "\n",
       "[100000 rows x 8 columns]"
      ]
     },
     "execution_count": 71,
     "metadata": {},
     "output_type": "execute_result"
    }
   ],
   "source": [
    "df_fato_fcx"
   ]
  },
  {
   "cell_type": "markdown",
   "metadata": {},
   "source": [
    "## Salva as dimensões na camada silver"
   ]
  },
  {
   "cell_type": "markdown",
   "metadata": {},
   "source": [
    "### Criando a dimensão Pessoas"
   ]
  },
  {
   "cell_type": "code",
   "execution_count": 72,
   "metadata": {},
   "outputs": [
    {
     "name": "stdout",
     "output_type": "stream",
     "text": [
      "Arquivo salvo em: C:\\Fonte Dados\\fcx\\silver\\pessoas\\pessoas.parquet\n"
     ]
    }
   ],
   "source": [
    "# Exemplo de silver_path armazenado\n",
    "silver_path = r\"C:\\Fonte Dados\\fcx\\silver\"\n",
    "subpasta = 'pessoas'\n",
    "nome_arquivo = 'pessoas.parquet'\n",
    "\n",
    "# Construção do caminho para salvar o arquivo\n",
    "pessoas_path = os.path.join(silver_path, subpasta, nome_arquivo)\n",
    "\n",
    "# Certifique-se de que a pasta existe, caso contrário, crie-a\n",
    "os.makedirs(os.path.dirname(pessoas_path), exist_ok=True)\n",
    "\n",
    "# Salva o dataframe no caminho especificado\n",
    "df_pessoas.to_parquet(pessoas_path, index=False)\n",
    "\n",
    "print(f\"Arquivo salvo em: {pessoas_path}\")"
   ]
  },
  {
   "cell_type": "markdown",
   "metadata": {},
   "source": [
    "### Criando a dimensão Condicao de Pagamento"
   ]
  },
  {
   "cell_type": "code",
   "execution_count": 73,
   "metadata": {},
   "outputs": [
    {
     "name": "stdout",
     "output_type": "stream",
     "text": [
      "Arquivo salvo em: C:\\Fonte Dados\\fcx\\silver\\condicao_pagamento\\condicao_pagamento.parquet\n"
     ]
    }
   ],
   "source": [
    "# Exemplo de silver_path armazenado\n",
    "silver_path = r\"C:\\Fonte Dados\\fcx\\silver\"\n",
    "subpasta = 'condicao_pagamento'\n",
    "nome_arquivo = 'condicao_pagamento.parquet'\n",
    "\n",
    "# Construção do caminho para salvar o arquivo\n",
    "cp_path = os.path.join(silver_path, subpasta, nome_arquivo)\n",
    "\n",
    "# Certifique-se de que a pasta existe, caso contrário, crie-a\n",
    "os.makedirs(os.path.dirname(cp_path), exist_ok=True)\n",
    "\n",
    "# Salva o dataframe no caminho especificado\n",
    "df_condicao_pagamento.to_parquet(cp_path, index=False)\n",
    "\n",
    "print(f\"Arquivo salvo em: {cp_path}\")"
   ]
  },
  {
   "cell_type": "markdown",
   "metadata": {},
   "source": [
    "### Criando a dimensão Tipo documento"
   ]
  },
  {
   "cell_type": "code",
   "execution_count": 74,
   "metadata": {},
   "outputs": [
    {
     "name": "stdout",
     "output_type": "stream",
     "text": [
      "Arquivo salvo em: C:\\Fonte Dados\\fcx\\silver\\tipo_doc\\tipo_doc.parquet\n"
     ]
    }
   ],
   "source": [
    "# Exemplo de silver_path armazenado\n",
    "silver_path = r\"C:\\Fonte Dados\\fcx\\silver\"\n",
    "subpasta = 'tipo_doc'\n",
    "nome_arquivo = 'tipo_doc.parquet'\n",
    "\n",
    "# Construção do caminho para salvar o arquivo\n",
    "doc_path = os.path.join(silver_path, subpasta, nome_arquivo)\n",
    "\n",
    "# Certifique-se de que a pasta existe, caso contrário, crie-a\n",
    "os.makedirs(os.path.dirname(doc_path), exist_ok=True)\n",
    "\n",
    "# Salva o dataframe no caminho especificado\n",
    "df_tipo_doc.to_parquet(doc_path, index=False)\n",
    "\n",
    "print(f\"Arquivo salvo em: {doc_path}\")\n"
   ]
  },
  {
   "cell_type": "markdown",
   "metadata": {},
   "source": [
    "### Criar a tabela Fato Transações financeiras particionada Ano/Mês"
   ]
  },
  {
   "cell_type": "code",
   "execution_count": 75,
   "metadata": {},
   "outputs": [
    {
     "name": "stdout",
     "output_type": "stream",
     "text": [
      "Arquivo salvo particionado em: C:\\Fonte Dados\\fcx\\silver\\transacoes\n"
     ]
    }
   ],
   "source": [
    "import os\n",
    "import pandas as pd\n",
    "\n",
    "# Exemplo de silver_path armazenado\n",
    "silver_path = r\"C:\\Fonte Dados\\fcx\\silver\"\n",
    "subpasta = 'transacoes'\n",
    "pasta_completa = os.path.join(silver_path, subpasta)\n",
    "\n",
    "# Certifique-se de que a coluna 'data_emissão' esteja no formato datetime\n",
    "df_fato_fcx['data_emissão'] = pd.to_datetime(df_fato_fcx['data_emissão'])\n",
    "\n",
    "# Adiciona colunas de Ano e Mês\n",
    "df_fato_fcx['Ano'] = df_fato_fcx['data_emissão'].dt.year\n",
    "df_fato_fcx['Mes'] = df_fato_fcx['data_emissão'].dt.month\n",
    "\n",
    "# Salva o arquivo parquet particionado automaticamente\n",
    "df_fato_fcx.to_parquet(\n",
    "    pasta_completa,\n",
    "    index=False,\n",
    "    partition_cols=['Ano', 'Mes'],\n",
    "    engine='pyarrow'  # Certifique-se de que o PyArrow está instalado\n",
    ")\n",
    "\n",
    "print(f\"Arquivo salvo particionado em: {pasta_completa}\")\n"
   ]
  },
  {
   "cell_type": "markdown",
   "metadata": {},
   "source": [
    "## Evidencia de dados nos arquivos Parquet"
   ]
  },
  {
   "cell_type": "code",
   "execution_count": 76,
   "metadata": {},
   "outputs": [
    {
     "data": {
      "text/html": [
       "<div>\n",
       "<style scoped>\n",
       "    .dataframe tbody tr th:only-of-type {\n",
       "        vertical-align: middle;\n",
       "    }\n",
       "\n",
       "    .dataframe tbody tr th {\n",
       "        vertical-align: top;\n",
       "    }\n",
       "\n",
       "    .dataframe thead th {\n",
       "        text-align: right;\n",
       "    }\n",
       "</style>\n",
       "<table border=\"1\" class=\"dataframe\">\n",
       "  <thead>\n",
       "    <tr style=\"text-align: right;\">\n",
       "      <th></th>\n",
       "      <th>cod_clifor</th>\n",
       "      <th>nomeclifor</th>\n",
       "    </tr>\n",
       "  </thead>\n",
       "  <tbody>\n",
       "    <tr>\n",
       "      <th>0</th>\n",
       "      <td>1</td>\n",
       "      <td>Larissa da Cruz</td>\n",
       "    </tr>\n",
       "    <tr>\n",
       "      <th>1</th>\n",
       "      <td>2</td>\n",
       "      <td>João Teixeira</td>\n",
       "    </tr>\n",
       "    <tr>\n",
       "      <th>2</th>\n",
       "      <td>3</td>\n",
       "      <td>Lorenzo Santos</td>\n",
       "    </tr>\n",
       "    <tr>\n",
       "      <th>3</th>\n",
       "      <td>4</td>\n",
       "      <td>Maria Cecília Nunes</td>\n",
       "    </tr>\n",
       "    <tr>\n",
       "      <th>4</th>\n",
       "      <td>5</td>\n",
       "      <td>Guilherme da Cunha</td>\n",
       "    </tr>\n",
       "    <tr>\n",
       "      <th>...</th>\n",
       "      <td>...</td>\n",
       "      <td>...</td>\n",
       "    </tr>\n",
       "    <tr>\n",
       "      <th>530</th>\n",
       "      <td>531</td>\n",
       "      <td>Lucas Aragão</td>\n",
       "    </tr>\n",
       "    <tr>\n",
       "      <th>531</th>\n",
       "      <td>532</td>\n",
       "      <td>Arthur Santos</td>\n",
       "    </tr>\n",
       "    <tr>\n",
       "      <th>532</th>\n",
       "      <td>533</td>\n",
       "      <td>Luara Costela</td>\n",
       "    </tr>\n",
       "    <tr>\n",
       "      <th>533</th>\n",
       "      <td>534</td>\n",
       "      <td>Milena Alves</td>\n",
       "    </tr>\n",
       "    <tr>\n",
       "      <th>534</th>\n",
       "      <td>535</td>\n",
       "      <td>Sra. Liz da Cruz</td>\n",
       "    </tr>\n",
       "  </tbody>\n",
       "</table>\n",
       "<p>535 rows × 2 columns</p>\n",
       "</div>"
      ],
      "text/plain": [
       "     cod_clifor           nomeclifor\n",
       "0             1      Larissa da Cruz\n",
       "1             2        João Teixeira\n",
       "2             3       Lorenzo Santos\n",
       "3             4  Maria Cecília Nunes\n",
       "4             5   Guilherme da Cunha\n",
       "..          ...                  ...\n",
       "530         531         Lucas Aragão\n",
       "531         532        Arthur Santos\n",
       "532         533        Luara Costela\n",
       "533         534         Milena Alves\n",
       "534         535     Sra. Liz da Cruz\n",
       "\n",
       "[535 rows x 2 columns]"
      ]
     },
     "execution_count": 76,
     "metadata": {},
     "output_type": "execute_result"
    }
   ],
   "source": [
    "# Tabela de Silver - Pessoas \n",
    "silver_path = r\"C:\\Fonte Dados\\fcx\\silver\"\n",
    "tabela =\"pessoas\"\n",
    "pasta_completa = os.path.join(silver_path, tabela)\n",
    "# Lê o arquivo Parquet \n",
    "df_silver = pd.read_parquet(pasta_completa)\n",
    "df_silver"
   ]
  },
  {
   "cell_type": "code",
   "execution_count": 77,
   "metadata": {},
   "outputs": [
    {
     "data": {
      "text/html": [
       "<div>\n",
       "<style scoped>\n",
       "    .dataframe tbody tr th:only-of-type {\n",
       "        vertical-align: middle;\n",
       "    }\n",
       "\n",
       "    .dataframe tbody tr th {\n",
       "        vertical-align: top;\n",
       "    }\n",
       "\n",
       "    .dataframe thead th {\n",
       "        text-align: right;\n",
       "    }\n",
       "</style>\n",
       "<table border=\"1\" class=\"dataframe\">\n",
       "  <thead>\n",
       "    <tr style=\"text-align: right;\">\n",
       "      <th></th>\n",
       "      <th>tipo_doc</th>\n",
       "    </tr>\n",
       "  </thead>\n",
       "  <tbody>\n",
       "    <tr>\n",
       "      <th>0</th>\n",
       "      <td>pagar</td>\n",
       "    </tr>\n",
       "    <tr>\n",
       "      <th>1</th>\n",
       "      <td>receber</td>\n",
       "    </tr>\n",
       "  </tbody>\n",
       "</table>\n",
       "</div>"
      ],
      "text/plain": [
       "  tipo_doc\n",
       "0    pagar\n",
       "1  receber"
      ]
     },
     "execution_count": 77,
     "metadata": {},
     "output_type": "execute_result"
    }
   ],
   "source": [
    "# Tabela de Silver - Pessoas \n",
    "silver_path = r\"C:\\Fonte Dados\\fcx\\silver\"\n",
    "tabela =\"tipo_doc\"\n",
    "pasta_completa = os.path.join(silver_path, tabela)\n",
    "# Lê o arquivo Parquet \n",
    "df_silver = pd.read_parquet(pasta_completa)\n",
    "df_silver"
   ]
  },
  {
   "cell_type": "code",
   "execution_count": 78,
   "metadata": {},
   "outputs": [
    {
     "data": {
      "text/html": [
       "<div>\n",
       "<style scoped>\n",
       "    .dataframe tbody tr th:only-of-type {\n",
       "        vertical-align: middle;\n",
       "    }\n",
       "\n",
       "    .dataframe tbody tr th {\n",
       "        vertical-align: top;\n",
       "    }\n",
       "\n",
       "    .dataframe thead th {\n",
       "        text-align: right;\n",
       "    }\n",
       "</style>\n",
       "<table border=\"1\" class=\"dataframe\">\n",
       "  <thead>\n",
       "    <tr style=\"text-align: right;\">\n",
       "      <th></th>\n",
       "      <th>condicao_pagamento</th>\n",
       "    </tr>\n",
       "  </thead>\n",
       "  <tbody>\n",
       "    <tr>\n",
       "      <th>0</th>\n",
       "      <td>à vista</td>\n",
       "    </tr>\n",
       "    <tr>\n",
       "      <th>1</th>\n",
       "      <td>parcelado</td>\n",
       "    </tr>\n",
       "  </tbody>\n",
       "</table>\n",
       "</div>"
      ],
      "text/plain": [
       "  condicao_pagamento\n",
       "0            à vista\n",
       "1          parcelado"
      ]
     },
     "execution_count": 78,
     "metadata": {},
     "output_type": "execute_result"
    }
   ],
   "source": [
    "# Tabela de Silver - Pessoas \n",
    "silver_path = r\"C:\\Fonte Dados\\fcx\\silver\"\n",
    "tabela =\"condicao_pagamento\"\n",
    "pasta_completa = os.path.join(silver_path, tabela)\n",
    "# Lê o arquivo Parquet \n",
    "df_silver = pd.read_parquet(pasta_completa)\n",
    "df_silver"
   ]
  },
  {
   "cell_type": "code",
   "execution_count": 79,
   "metadata": {},
   "outputs": [
    {
     "data": {
      "text/html": [
       "<div>\n",
       "<style scoped>\n",
       "    .dataframe tbody tr th:only-of-type {\n",
       "        vertical-align: middle;\n",
       "    }\n",
       "\n",
       "    .dataframe tbody tr th {\n",
       "        vertical-align: top;\n",
       "    }\n",
       "\n",
       "    .dataframe thead th {\n",
       "        text-align: right;\n",
       "    }\n",
       "</style>\n",
       "<table border=\"1\" class=\"dataframe\">\n",
       "  <thead>\n",
       "    <tr style=\"text-align: right;\">\n",
       "      <th></th>\n",
       "      <th>documento</th>\n",
       "      <th>cod_clifor</th>\n",
       "      <th>tipo_doc</th>\n",
       "      <th>valor</th>\n",
       "      <th>data_emissão</th>\n",
       "      <th>data_vencimento</th>\n",
       "      <th>data_pagamento</th>\n",
       "      <th>condicao_pagamento</th>\n",
       "      <th>Ano</th>\n",
       "      <th>Mes</th>\n",
       "    </tr>\n",
       "  </thead>\n",
       "  <tbody>\n",
       "    <tr>\n",
       "      <th>0</th>\n",
       "      <td>90</td>\n",
       "      <td>90</td>\n",
       "      <td>pagar</td>\n",
       "      <td>564072</td>\n",
       "      <td>2023-01-29</td>\n",
       "      <td>2024-12-18</td>\n",
       "      <td>2024-08-03</td>\n",
       "      <td>parcelado</td>\n",
       "      <td>2023</td>\n",
       "      <td>1</td>\n",
       "    </tr>\n",
       "    <tr>\n",
       "      <th>1</th>\n",
       "      <td>115</td>\n",
       "      <td>245</td>\n",
       "      <td>receber</td>\n",
       "      <td>226841</td>\n",
       "      <td>2023-01-20</td>\n",
       "      <td>2025-10-18</td>\n",
       "      <td>2023-08-01</td>\n",
       "      <td>à vista</td>\n",
       "      <td>2023</td>\n",
       "      <td>1</td>\n",
       "    </tr>\n",
       "    <tr>\n",
       "      <th>2</th>\n",
       "      <td>145</td>\n",
       "      <td>402</td>\n",
       "      <td>pagar</td>\n",
       "      <td>337824</td>\n",
       "      <td>2023-01-19</td>\n",
       "      <td>2024-06-22</td>\n",
       "      <td>2024-06-02</td>\n",
       "      <td>parcelado</td>\n",
       "      <td>2023</td>\n",
       "      <td>1</td>\n",
       "    </tr>\n",
       "    <tr>\n",
       "      <th>3</th>\n",
       "      <td>184</td>\n",
       "      <td>254</td>\n",
       "      <td>pagar</td>\n",
       "      <td>80057</td>\n",
       "      <td>2023-01-26</td>\n",
       "      <td>2025-12-10</td>\n",
       "      <td>2023-07-24</td>\n",
       "      <td>à vista</td>\n",
       "      <td>2023</td>\n",
       "      <td>1</td>\n",
       "    </tr>\n",
       "    <tr>\n",
       "      <th>4</th>\n",
       "      <td>203</td>\n",
       "      <td>375</td>\n",
       "      <td>receber</td>\n",
       "      <td>372949</td>\n",
       "      <td>2023-01-21</td>\n",
       "      <td>2024-11-22</td>\n",
       "      <td>2024-02-09</td>\n",
       "      <td>à vista</td>\n",
       "      <td>2023</td>\n",
       "      <td>1</td>\n",
       "    </tr>\n",
       "    <tr>\n",
       "      <th>...</th>\n",
       "      <td>...</td>\n",
       "      <td>...</td>\n",
       "      <td>...</td>\n",
       "      <td>...</td>\n",
       "      <td>...</td>\n",
       "      <td>...</td>\n",
       "      <td>...</td>\n",
       "      <td>...</td>\n",
       "      <td>...</td>\n",
       "      <td>...</td>\n",
       "    </tr>\n",
       "    <tr>\n",
       "      <th>99995</th>\n",
       "      <td>99886</td>\n",
       "      <td>155</td>\n",
       "      <td>receber</td>\n",
       "      <td>611973</td>\n",
       "      <td>2025-01-14</td>\n",
       "      <td>2025-05-12</td>\n",
       "      <td>2025-03-09</td>\n",
       "      <td>à vista</td>\n",
       "      <td>2025</td>\n",
       "      <td>1</td>\n",
       "    </tr>\n",
       "    <tr>\n",
       "      <th>99996</th>\n",
       "      <td>99902</td>\n",
       "      <td>370</td>\n",
       "      <td>receber</td>\n",
       "      <td>724024</td>\n",
       "      <td>2025-01-02</td>\n",
       "      <td>2025-10-11</td>\n",
       "      <td>2025-06-03</td>\n",
       "      <td>parcelado</td>\n",
       "      <td>2025</td>\n",
       "      <td>1</td>\n",
       "    </tr>\n",
       "    <tr>\n",
       "      <th>99997</th>\n",
       "      <td>99913</td>\n",
       "      <td>497</td>\n",
       "      <td>pagar</td>\n",
       "      <td>879713</td>\n",
       "      <td>2025-01-13</td>\n",
       "      <td>2025-09-14</td>\n",
       "      <td>2025-05-25</td>\n",
       "      <td>à vista</td>\n",
       "      <td>2025</td>\n",
       "      <td>1</td>\n",
       "    </tr>\n",
       "    <tr>\n",
       "      <th>99998</th>\n",
       "      <td>99976</td>\n",
       "      <td>111</td>\n",
       "      <td>pagar</td>\n",
       "      <td>869196</td>\n",
       "      <td>2025-01-02</td>\n",
       "      <td>2025-09-20</td>\n",
       "      <td>2025-02-10</td>\n",
       "      <td>parcelado</td>\n",
       "      <td>2025</td>\n",
       "      <td>1</td>\n",
       "    </tr>\n",
       "    <tr>\n",
       "      <th>99999</th>\n",
       "      <td>99979</td>\n",
       "      <td>494</td>\n",
       "      <td>pagar</td>\n",
       "      <td>697479</td>\n",
       "      <td>2025-01-02</td>\n",
       "      <td>2025-01-02</td>\n",
       "      <td>2025-06-13</td>\n",
       "      <td>parcelado</td>\n",
       "      <td>2025</td>\n",
       "      <td>1</td>\n",
       "    </tr>\n",
       "  </tbody>\n",
       "</table>\n",
       "<p>100000 rows × 10 columns</p>\n",
       "</div>"
      ],
      "text/plain": [
       "       documento  cod_clifor tipo_doc   valor data_emissão data_vencimento  \\\n",
       "0             90          90    pagar  564072   2023-01-29      2024-12-18   \n",
       "1            115         245  receber  226841   2023-01-20      2025-10-18   \n",
       "2            145         402    pagar  337824   2023-01-19      2024-06-22   \n",
       "3            184         254    pagar   80057   2023-01-26      2025-12-10   \n",
       "4            203         375  receber  372949   2023-01-21      2024-11-22   \n",
       "...          ...         ...      ...     ...          ...             ...   \n",
       "99995      99886         155  receber  611973   2025-01-14      2025-05-12   \n",
       "99996      99902         370  receber  724024   2025-01-02      2025-10-11   \n",
       "99997      99913         497    pagar  879713   2025-01-13      2025-09-14   \n",
       "99998      99976         111    pagar  869196   2025-01-02      2025-09-20   \n",
       "99999      99979         494    pagar  697479   2025-01-02      2025-01-02   \n",
       "\n",
       "      data_pagamento condicao_pagamento   Ano Mes  \n",
       "0         2024-08-03          parcelado  2023   1  \n",
       "1         2023-08-01            à vista  2023   1  \n",
       "2         2024-06-02          parcelado  2023   1  \n",
       "3         2023-07-24            à vista  2023   1  \n",
       "4         2024-02-09            à vista  2023   1  \n",
       "...              ...                ...   ...  ..  \n",
       "99995     2025-03-09            à vista  2025   1  \n",
       "99996     2025-06-03          parcelado  2025   1  \n",
       "99997     2025-05-25            à vista  2025   1  \n",
       "99998     2025-02-10          parcelado  2025   1  \n",
       "99999     2025-06-13          parcelado  2025   1  \n",
       "\n",
       "[100000 rows x 10 columns]"
      ]
     },
     "execution_count": 79,
     "metadata": {},
     "output_type": "execute_result"
    }
   ],
   "source": [
    "# Tabela de Silver - Pessoas \n",
    "silver_path = r\"C:\\Fonte Dados\\fcx\\silver\"\n",
    "tabela =\"transacoes\"\n",
    "pasta_completa = os.path.join(silver_path, tabela)\n",
    "# Lê o arquivo Parquet \n",
    "df_silver = pd.read_parquet(pasta_completa)\n",
    "df_silver"
   ]
  },
  {
   "cell_type": "markdown",
   "metadata": {},
   "source": [
    "## Etapa 3\n",
    "### Criaçao da Camada Gold (Fatos e dimensões e aplicação SCD1)"
   ]
  },
  {
   "cell_type": "code",
   "execution_count": 80,
   "metadata": {},
   "outputs": [],
   "source": [
    "import pandas as pd \n",
    "import os \n",
    "# Define caminhos \n",
    "gold_path = r\"C:\\Fonte Dados\\fcx\\gold\" \n",
    "silver_path = r\"C:\\Fonte Dados\\fcx\\silver\" \n",
    "# Cria diretórios caso não existam \n",
    "\n",
    "os.makedirs(gold_path, exist_ok=True)"
   ]
  },
  {
   "cell_type": "markdown",
   "metadata": {},
   "source": [
    "### 1 Ler os arquivos na camada Silver\n",
    "### 2 Add Surrogate Keys\n",
    "### 3 Salvar camada Gold\n"
   ]
  },
  {
   "cell_type": "code",
   "execution_count": 81,
   "metadata": {},
   "outputs": [],
   "source": [
    "# Lê os dados da camada silver (d) \n",
    "tabela = 'pessoas'\n",
    "pasta_completa = os.path.join(silver_path, tabela)\n",
    "df_pessoas = pd.read_parquet(os.path.join(pasta_completa)) \n"
   ]
  },
  {
   "cell_type": "code",
   "execution_count": 82,
   "metadata": {},
   "outputs": [
    {
     "data": {
      "text/html": [
       "<div>\n",
       "<style scoped>\n",
       "    .dataframe tbody tr th:only-of-type {\n",
       "        vertical-align: middle;\n",
       "    }\n",
       "\n",
       "    .dataframe tbody tr th {\n",
       "        vertical-align: top;\n",
       "    }\n",
       "\n",
       "    .dataframe thead th {\n",
       "        text-align: right;\n",
       "    }\n",
       "</style>\n",
       "<table border=\"1\" class=\"dataframe\">\n",
       "  <thead>\n",
       "    <tr style=\"text-align: right;\">\n",
       "      <th></th>\n",
       "      <th>cod_clifor</th>\n",
       "      <th>nomeclifor</th>\n",
       "      <th>pessoa_sk</th>\n",
       "    </tr>\n",
       "  </thead>\n",
       "  <tbody>\n",
       "    <tr>\n",
       "      <th>0</th>\n",
       "      <td>1</td>\n",
       "      <td>Larissa da Cruz</td>\n",
       "      <td>1</td>\n",
       "    </tr>\n",
       "    <tr>\n",
       "      <th>1</th>\n",
       "      <td>2</td>\n",
       "      <td>João Teixeira</td>\n",
       "      <td>2</td>\n",
       "    </tr>\n",
       "    <tr>\n",
       "      <th>2</th>\n",
       "      <td>3</td>\n",
       "      <td>Lorenzo Santos</td>\n",
       "      <td>3</td>\n",
       "    </tr>\n",
       "    <tr>\n",
       "      <th>3</th>\n",
       "      <td>4</td>\n",
       "      <td>Maria Cecília Nunes</td>\n",
       "      <td>4</td>\n",
       "    </tr>\n",
       "    <tr>\n",
       "      <th>4</th>\n",
       "      <td>5</td>\n",
       "      <td>Guilherme da Cunha</td>\n",
       "      <td>5</td>\n",
       "    </tr>\n",
       "    <tr>\n",
       "      <th>...</th>\n",
       "      <td>...</td>\n",
       "      <td>...</td>\n",
       "      <td>...</td>\n",
       "    </tr>\n",
       "    <tr>\n",
       "      <th>530</th>\n",
       "      <td>531</td>\n",
       "      <td>Lucas Aragão</td>\n",
       "      <td>531</td>\n",
       "    </tr>\n",
       "    <tr>\n",
       "      <th>531</th>\n",
       "      <td>532</td>\n",
       "      <td>Arthur Santos</td>\n",
       "      <td>532</td>\n",
       "    </tr>\n",
       "    <tr>\n",
       "      <th>532</th>\n",
       "      <td>533</td>\n",
       "      <td>Luara Costela</td>\n",
       "      <td>533</td>\n",
       "    </tr>\n",
       "    <tr>\n",
       "      <th>533</th>\n",
       "      <td>534</td>\n",
       "      <td>Milena Alves</td>\n",
       "      <td>534</td>\n",
       "    </tr>\n",
       "    <tr>\n",
       "      <th>534</th>\n",
       "      <td>535</td>\n",
       "      <td>Sra. Liz da Cruz</td>\n",
       "      <td>535</td>\n",
       "    </tr>\n",
       "  </tbody>\n",
       "</table>\n",
       "<p>535 rows × 3 columns</p>\n",
       "</div>"
      ],
      "text/plain": [
       "     cod_clifor           nomeclifor  pessoa_sk\n",
       "0             1      Larissa da Cruz          1\n",
       "1             2        João Teixeira          2\n",
       "2             3       Lorenzo Santos          3\n",
       "3             4  Maria Cecília Nunes          4\n",
       "4             5   Guilherme da Cunha          5\n",
       "..          ...                  ...        ...\n",
       "530         531         Lucas Aragão        531\n",
       "531         532        Arthur Santos        532\n",
       "532         533        Luara Costela        533\n",
       "533         534         Milena Alves        534\n",
       "534         535     Sra. Liz da Cruz        535\n",
       "\n",
       "[535 rows x 3 columns]"
      ]
     },
     "execution_count": 82,
     "metadata": {},
     "output_type": "execute_result"
    }
   ],
   "source": [
    "# Cria chaves substitutas (surrogate keys) \n",
    "df_pessoas['pessoa_sk'] = range(1, len(df_pessoas) + 1)\n",
    "df_pessoas"
   ]
  },
  {
   "cell_type": "code",
   "execution_count": 83,
   "metadata": {},
   "outputs": [
    {
     "name": "stdout",
     "output_type": "stream",
     "text": [
      "Arquivo salvo em: C:\\Fonte Dados\\fcx\\gold\\pessoas\\pessoas.parquet\n"
     ]
    }
   ],
   "source": [
    "# Salva as dimensões na camada gold \n",
    "subpasta = 'pessoas'\n",
    "nome_arquivo = 'pessoas.parquet'\n",
    "pasta_completa = os.path.join(gold_path, tabela, nome_arquivo)\n",
    "# Certifique-se de que a pasta existe, caso contrário, crie-a\n",
    "os.makedirs(os.path.dirname(pasta_completa), exist_ok=True)\n",
    "#Salva Arquivo Parquet na Gold\n",
    "df_pessoas.to_parquet(pasta_completa, index=False)\n",
    "print(f\"Arquivo salvo em: {pasta_completa}\")\n",
    "\n",
    "\n",
    "\n"
   ]
  },
  {
   "cell_type": "markdown",
   "metadata": {},
   "source": [
    "### Dimensão Comdicao de Pagamento"
   ]
  },
  {
   "cell_type": "code",
   "execution_count": 84,
   "metadata": {},
   "outputs": [
    {
     "name": "stdout",
     "output_type": "stream",
     "text": [
      "Arquivo salvo em: C:\\Fonte Dados\\fcx\\gold\\condicao_pagamento\\condicao_pagamento.parquet\n"
     ]
    }
   ],
   "source": [
    "# Lê os dados da camada silver (d) \n",
    "subpasta = 'condicao_pagamento'\n",
    "pasta_completa = os.path.join(silver_path, subpasta)\n",
    "df_condicao_pagamento = pd.read_parquet(os.path.join(pasta_completa)) \n",
    "# Cria chaves substitutas (surrogate keys) \n",
    "df_condicao_pagamento['cp_sk'] = range(1, len(df_condicao_pagamento) + 1)\n",
    "# Salva as dimensões na camada gold \n",
    "nome_arquivo = 'condicao_pagamento.parquet'\n",
    "pasta_completa = os.path.join(gold_path, subpasta, nome_arquivo)\n",
    "# Certifique-se de que a pasta existe, caso contrário, crie-a\n",
    "os.makedirs(os.path.dirname(pasta_completa), exist_ok=True)\n",
    "#Salva Arquivo Parquet na Gold\n",
    "df_condicao_pagamento.to_parquet(pasta_completa, index=False)\n",
    "print(f\"Arquivo salvo em: {pasta_completa}\")\n",
    "\n"
   ]
  },
  {
   "cell_type": "markdown",
   "metadata": {},
   "source": [
    "### Dimensão Tipo Documento"
   ]
  },
  {
   "cell_type": "code",
   "execution_count": 85,
   "metadata": {},
   "outputs": [
    {
     "name": "stdout",
     "output_type": "stream",
     "text": [
      "Arquivo salvo em: C:\\Fonte Dados\\fcx\\gold\\tipo_doc\\condicao_pagamento.parquet\n"
     ]
    }
   ],
   "source": [
    "# Lê os dados da camada silver (d) \n",
    "subpasta = 'tipo_doc'\n",
    "pasta_completa = os.path.join(silver_path, subpasta)\n",
    "df_tipo_doc = pd.read_parquet(os.path.join(pasta_completa)) \n",
    "# Cria chaves substitutas (surrogate keys) \n",
    "df_tipo_doc['td_sk'] = range(1, len(df_tipo_doc) + 1)\n",
    "# Salva as dimensões na camada gold \n",
    "nome_arquivo = 'condicao_pagamento.parquet'\n",
    "pasta_completa = os.path.join(gold_path, subpasta, nome_arquivo)\n",
    "# Certifique-se de que a pasta existe, caso contrário, crie-a\n",
    "os.makedirs(os.path.dirname(pasta_completa), exist_ok=True)\n",
    "#Salva Arquivo Parquet na Gold\n",
    "df_tipo_doc.to_parquet(pasta_completa, index=False)\n",
    "print(f\"Arquivo salvo em: {pasta_completa}\")"
   ]
  },
  {
   "cell_type": "markdown",
   "metadata": {},
   "source": [
    "## Construção da Tabela Fato"
   ]
  },
  {
   "cell_type": "code",
   "execution_count": 86,
   "metadata": {},
   "outputs": [
    {
     "data": {
      "text/html": [
       "<div>\n",
       "<style scoped>\n",
       "    .dataframe tbody tr th:only-of-type {\n",
       "        vertical-align: middle;\n",
       "    }\n",
       "\n",
       "    .dataframe tbody tr th {\n",
       "        vertical-align: top;\n",
       "    }\n",
       "\n",
       "    .dataframe thead th {\n",
       "        text-align: right;\n",
       "    }\n",
       "</style>\n",
       "<table border=\"1\" class=\"dataframe\">\n",
       "  <thead>\n",
       "    <tr style=\"text-align: right;\">\n",
       "      <th></th>\n",
       "      <th>documento</th>\n",
       "      <th>cod_clifor</th>\n",
       "      <th>tipo_doc</th>\n",
       "      <th>valor</th>\n",
       "      <th>data_emissão</th>\n",
       "      <th>data_vencimento</th>\n",
       "      <th>data_pagamento</th>\n",
       "      <th>condicao_pagamento</th>\n",
       "      <th>Ano</th>\n",
       "      <th>Mes</th>\n",
       "    </tr>\n",
       "  </thead>\n",
       "  <tbody>\n",
       "    <tr>\n",
       "      <th>0</th>\n",
       "      <td>90</td>\n",
       "      <td>90</td>\n",
       "      <td>pagar</td>\n",
       "      <td>564072</td>\n",
       "      <td>2023-01-29</td>\n",
       "      <td>2024-12-18</td>\n",
       "      <td>2024-08-03</td>\n",
       "      <td>parcelado</td>\n",
       "      <td>2023</td>\n",
       "      <td>1</td>\n",
       "    </tr>\n",
       "    <tr>\n",
       "      <th>1</th>\n",
       "      <td>115</td>\n",
       "      <td>245</td>\n",
       "      <td>receber</td>\n",
       "      <td>226841</td>\n",
       "      <td>2023-01-20</td>\n",
       "      <td>2025-10-18</td>\n",
       "      <td>2023-08-01</td>\n",
       "      <td>à vista</td>\n",
       "      <td>2023</td>\n",
       "      <td>1</td>\n",
       "    </tr>\n",
       "    <tr>\n",
       "      <th>2</th>\n",
       "      <td>145</td>\n",
       "      <td>402</td>\n",
       "      <td>pagar</td>\n",
       "      <td>337824</td>\n",
       "      <td>2023-01-19</td>\n",
       "      <td>2024-06-22</td>\n",
       "      <td>2024-06-02</td>\n",
       "      <td>parcelado</td>\n",
       "      <td>2023</td>\n",
       "      <td>1</td>\n",
       "    </tr>\n",
       "    <tr>\n",
       "      <th>3</th>\n",
       "      <td>184</td>\n",
       "      <td>254</td>\n",
       "      <td>pagar</td>\n",
       "      <td>80057</td>\n",
       "      <td>2023-01-26</td>\n",
       "      <td>2025-12-10</td>\n",
       "      <td>2023-07-24</td>\n",
       "      <td>à vista</td>\n",
       "      <td>2023</td>\n",
       "      <td>1</td>\n",
       "    </tr>\n",
       "    <tr>\n",
       "      <th>4</th>\n",
       "      <td>203</td>\n",
       "      <td>375</td>\n",
       "      <td>receber</td>\n",
       "      <td>372949</td>\n",
       "      <td>2023-01-21</td>\n",
       "      <td>2024-11-22</td>\n",
       "      <td>2024-02-09</td>\n",
       "      <td>à vista</td>\n",
       "      <td>2023</td>\n",
       "      <td>1</td>\n",
       "    </tr>\n",
       "    <tr>\n",
       "      <th>...</th>\n",
       "      <td>...</td>\n",
       "      <td>...</td>\n",
       "      <td>...</td>\n",
       "      <td>...</td>\n",
       "      <td>...</td>\n",
       "      <td>...</td>\n",
       "      <td>...</td>\n",
       "      <td>...</td>\n",
       "      <td>...</td>\n",
       "      <td>...</td>\n",
       "    </tr>\n",
       "    <tr>\n",
       "      <th>99995</th>\n",
       "      <td>99886</td>\n",
       "      <td>155</td>\n",
       "      <td>receber</td>\n",
       "      <td>611973</td>\n",
       "      <td>2025-01-14</td>\n",
       "      <td>2025-05-12</td>\n",
       "      <td>2025-03-09</td>\n",
       "      <td>à vista</td>\n",
       "      <td>2025</td>\n",
       "      <td>1</td>\n",
       "    </tr>\n",
       "    <tr>\n",
       "      <th>99996</th>\n",
       "      <td>99902</td>\n",
       "      <td>370</td>\n",
       "      <td>receber</td>\n",
       "      <td>724024</td>\n",
       "      <td>2025-01-02</td>\n",
       "      <td>2025-10-11</td>\n",
       "      <td>2025-06-03</td>\n",
       "      <td>parcelado</td>\n",
       "      <td>2025</td>\n",
       "      <td>1</td>\n",
       "    </tr>\n",
       "    <tr>\n",
       "      <th>99997</th>\n",
       "      <td>99913</td>\n",
       "      <td>497</td>\n",
       "      <td>pagar</td>\n",
       "      <td>879713</td>\n",
       "      <td>2025-01-13</td>\n",
       "      <td>2025-09-14</td>\n",
       "      <td>2025-05-25</td>\n",
       "      <td>à vista</td>\n",
       "      <td>2025</td>\n",
       "      <td>1</td>\n",
       "    </tr>\n",
       "    <tr>\n",
       "      <th>99998</th>\n",
       "      <td>99976</td>\n",
       "      <td>111</td>\n",
       "      <td>pagar</td>\n",
       "      <td>869196</td>\n",
       "      <td>2025-01-02</td>\n",
       "      <td>2025-09-20</td>\n",
       "      <td>2025-02-10</td>\n",
       "      <td>parcelado</td>\n",
       "      <td>2025</td>\n",
       "      <td>1</td>\n",
       "    </tr>\n",
       "    <tr>\n",
       "      <th>99999</th>\n",
       "      <td>99979</td>\n",
       "      <td>494</td>\n",
       "      <td>pagar</td>\n",
       "      <td>697479</td>\n",
       "      <td>2025-01-02</td>\n",
       "      <td>2025-01-02</td>\n",
       "      <td>2025-06-13</td>\n",
       "      <td>parcelado</td>\n",
       "      <td>2025</td>\n",
       "      <td>1</td>\n",
       "    </tr>\n",
       "  </tbody>\n",
       "</table>\n",
       "<p>100000 rows × 10 columns</p>\n",
       "</div>"
      ],
      "text/plain": [
       "       documento  cod_clifor tipo_doc   valor data_emissão data_vencimento  \\\n",
       "0             90          90    pagar  564072   2023-01-29      2024-12-18   \n",
       "1            115         245  receber  226841   2023-01-20      2025-10-18   \n",
       "2            145         402    pagar  337824   2023-01-19      2024-06-22   \n",
       "3            184         254    pagar   80057   2023-01-26      2025-12-10   \n",
       "4            203         375  receber  372949   2023-01-21      2024-11-22   \n",
       "...          ...         ...      ...     ...          ...             ...   \n",
       "99995      99886         155  receber  611973   2025-01-14      2025-05-12   \n",
       "99996      99902         370  receber  724024   2025-01-02      2025-10-11   \n",
       "99997      99913         497    pagar  879713   2025-01-13      2025-09-14   \n",
       "99998      99976         111    pagar  869196   2025-01-02      2025-09-20   \n",
       "99999      99979         494    pagar  697479   2025-01-02      2025-01-02   \n",
       "\n",
       "      data_pagamento condicao_pagamento   Ano Mes  \n",
       "0         2024-08-03          parcelado  2023   1  \n",
       "1         2023-08-01            à vista  2023   1  \n",
       "2         2024-06-02          parcelado  2023   1  \n",
       "3         2023-07-24            à vista  2023   1  \n",
       "4         2024-02-09            à vista  2023   1  \n",
       "...              ...                ...   ...  ..  \n",
       "99995     2025-03-09            à vista  2025   1  \n",
       "99996     2025-06-03          parcelado  2025   1  \n",
       "99997     2025-05-25            à vista  2025   1  \n",
       "99998     2025-02-10          parcelado  2025   1  \n",
       "99999     2025-06-13          parcelado  2025   1  \n",
       "\n",
       "[100000 rows x 10 columns]"
      ]
     },
     "execution_count": 86,
     "metadata": {},
     "output_type": "execute_result"
    }
   ],
   "source": [
    "# Lê os dados da camada silver (d) \n",
    "subpasta = 'transacoes'\n",
    "pasta_completa = os.path.join(silver_path, subpasta)\n",
    "df_fato_fcx = pd.read_parquet(os.path.join(pasta_completa)) \n",
    "df_fato_fcx"
   ]
  },
  {
   "cell_type": "code",
   "execution_count": 87,
   "metadata": {},
   "outputs": [
    {
     "data": {
      "text/html": [
       "<div>\n",
       "<style scoped>\n",
       "    .dataframe tbody tr th:only-of-type {\n",
       "        vertical-align: middle;\n",
       "    }\n",
       "\n",
       "    .dataframe tbody tr th {\n",
       "        vertical-align: top;\n",
       "    }\n",
       "\n",
       "    .dataframe thead th {\n",
       "        text-align: right;\n",
       "    }\n",
       "</style>\n",
       "<table border=\"1\" class=\"dataframe\">\n",
       "  <thead>\n",
       "    <tr style=\"text-align: right;\">\n",
       "      <th></th>\n",
       "      <th>documento</th>\n",
       "      <th>pessoa_sk</th>\n",
       "      <th>td_sk</th>\n",
       "      <th>cp_sk</th>\n",
       "      <th>valor</th>\n",
       "      <th>data_emissão</th>\n",
       "      <th>data_vencimento</th>\n",
       "      <th>data_pagamento</th>\n",
       "    </tr>\n",
       "  </thead>\n",
       "  <tbody>\n",
       "    <tr>\n",
       "      <th>0</th>\n",
       "      <td>90</td>\n",
       "      <td>90</td>\n",
       "      <td>1</td>\n",
       "      <td>2</td>\n",
       "      <td>564072</td>\n",
       "      <td>2023-01-29</td>\n",
       "      <td>2024-12-18</td>\n",
       "      <td>2024-08-03</td>\n",
       "    </tr>\n",
       "    <tr>\n",
       "      <th>1</th>\n",
       "      <td>115</td>\n",
       "      <td>245</td>\n",
       "      <td>2</td>\n",
       "      <td>1</td>\n",
       "      <td>226841</td>\n",
       "      <td>2023-01-20</td>\n",
       "      <td>2025-10-18</td>\n",
       "      <td>2023-08-01</td>\n",
       "    </tr>\n",
       "    <tr>\n",
       "      <th>2</th>\n",
       "      <td>145</td>\n",
       "      <td>402</td>\n",
       "      <td>1</td>\n",
       "      <td>2</td>\n",
       "      <td>337824</td>\n",
       "      <td>2023-01-19</td>\n",
       "      <td>2024-06-22</td>\n",
       "      <td>2024-06-02</td>\n",
       "    </tr>\n",
       "    <tr>\n",
       "      <th>3</th>\n",
       "      <td>184</td>\n",
       "      <td>254</td>\n",
       "      <td>1</td>\n",
       "      <td>1</td>\n",
       "      <td>80057</td>\n",
       "      <td>2023-01-26</td>\n",
       "      <td>2025-12-10</td>\n",
       "      <td>2023-07-24</td>\n",
       "    </tr>\n",
       "    <tr>\n",
       "      <th>4</th>\n",
       "      <td>203</td>\n",
       "      <td>375</td>\n",
       "      <td>2</td>\n",
       "      <td>1</td>\n",
       "      <td>372949</td>\n",
       "      <td>2023-01-21</td>\n",
       "      <td>2024-11-22</td>\n",
       "      <td>2024-02-09</td>\n",
       "    </tr>\n",
       "    <tr>\n",
       "      <th>...</th>\n",
       "      <td>...</td>\n",
       "      <td>...</td>\n",
       "      <td>...</td>\n",
       "      <td>...</td>\n",
       "      <td>...</td>\n",
       "      <td>...</td>\n",
       "      <td>...</td>\n",
       "      <td>...</td>\n",
       "    </tr>\n",
       "    <tr>\n",
       "      <th>99995</th>\n",
       "      <td>99886</td>\n",
       "      <td>155</td>\n",
       "      <td>2</td>\n",
       "      <td>1</td>\n",
       "      <td>611973</td>\n",
       "      <td>2025-01-14</td>\n",
       "      <td>2025-05-12</td>\n",
       "      <td>2025-03-09</td>\n",
       "    </tr>\n",
       "    <tr>\n",
       "      <th>99996</th>\n",
       "      <td>99902</td>\n",
       "      <td>370</td>\n",
       "      <td>2</td>\n",
       "      <td>2</td>\n",
       "      <td>724024</td>\n",
       "      <td>2025-01-02</td>\n",
       "      <td>2025-10-11</td>\n",
       "      <td>2025-06-03</td>\n",
       "    </tr>\n",
       "    <tr>\n",
       "      <th>99997</th>\n",
       "      <td>99913</td>\n",
       "      <td>497</td>\n",
       "      <td>1</td>\n",
       "      <td>1</td>\n",
       "      <td>879713</td>\n",
       "      <td>2025-01-13</td>\n",
       "      <td>2025-09-14</td>\n",
       "      <td>2025-05-25</td>\n",
       "    </tr>\n",
       "    <tr>\n",
       "      <th>99998</th>\n",
       "      <td>99976</td>\n",
       "      <td>111</td>\n",
       "      <td>1</td>\n",
       "      <td>2</td>\n",
       "      <td>869196</td>\n",
       "      <td>2025-01-02</td>\n",
       "      <td>2025-09-20</td>\n",
       "      <td>2025-02-10</td>\n",
       "    </tr>\n",
       "    <tr>\n",
       "      <th>99999</th>\n",
       "      <td>99979</td>\n",
       "      <td>494</td>\n",
       "      <td>1</td>\n",
       "      <td>2</td>\n",
       "      <td>697479</td>\n",
       "      <td>2025-01-02</td>\n",
       "      <td>2025-01-02</td>\n",
       "      <td>2025-06-13</td>\n",
       "    </tr>\n",
       "  </tbody>\n",
       "</table>\n",
       "<p>100000 rows × 8 columns</p>\n",
       "</div>"
      ],
      "text/plain": [
       "       documento  pessoa_sk  td_sk  cp_sk   valor data_emissão  \\\n",
       "0             90         90      1      2  564072   2023-01-29   \n",
       "1            115        245      2      1  226841   2023-01-20   \n",
       "2            145        402      1      2  337824   2023-01-19   \n",
       "3            184        254      1      1   80057   2023-01-26   \n",
       "4            203        375      2      1  372949   2023-01-21   \n",
       "...          ...        ...    ...    ...     ...          ...   \n",
       "99995      99886        155      2      1  611973   2025-01-14   \n",
       "99996      99902        370      2      2  724024   2025-01-02   \n",
       "99997      99913        497      1      1  879713   2025-01-13   \n",
       "99998      99976        111      1      2  869196   2025-01-02   \n",
       "99999      99979        494      1      2  697479   2025-01-02   \n",
       "\n",
       "      data_vencimento data_pagamento  \n",
       "0          2024-12-18     2024-08-03  \n",
       "1          2025-10-18     2023-08-01  \n",
       "2          2024-06-22     2024-06-02  \n",
       "3          2025-12-10     2023-07-24  \n",
       "4          2024-11-22     2024-02-09  \n",
       "...               ...            ...  \n",
       "99995      2025-05-12     2025-03-09  \n",
       "99996      2025-10-11     2025-06-03  \n",
       "99997      2025-09-14     2025-05-25  \n",
       "99998      2025-09-20     2025-02-10  \n",
       "99999      2025-01-02     2025-06-13  \n",
       "\n",
       "[100000 rows x 8 columns]"
      ]
     },
     "execution_count": 87,
     "metadata": {},
     "output_type": "execute_result"
    }
   ],
   "source": [
    "# Junta a tabela fato com as chaves substitutas\n",
    "df_fato_fcx = (\n",
    "    df_fato_fcx\n",
    "    .merge(df_pessoas, on='cod_clifor')\n",
    "    .merge(df_condicao_pagamento, on='condicao_pagamento')\n",
    "    .merge(df_tipo_doc, on='tipo_doc')\n",
    ")\n",
    "\n",
    "# Seleciona as colunas da tabela fato com as chaves substitutas\n",
    "df_fato_fcx_gold = df_fato_fcx[['documento', 'pessoa_sk', 'td_sk', 'cp_sk', 'valor', 'data_emissão', 'data_vencimento', 'data_pagamento']]\n",
    "\n",
    "# Exibe o DataFrame final\n",
    "df_fato_fcx_gold\n"
   ]
  },
  {
   "cell_type": "markdown",
   "metadata": {},
   "source": [
    "# Salva a tabela fato na camada gold \n"
   ]
  },
  {
   "cell_type": "code",
   "execution_count": 88,
   "metadata": {},
   "outputs": [
    {
     "name": "stdout",
     "output_type": "stream",
     "text": [
      "Arquivo salvo particionado em: C:\\Fonte Dados\\fcx\\gold\\transacoes\n"
     ]
    },
    {
     "name": "stderr",
     "output_type": "stream",
     "text": [
      "C:\\Users\\andre\\AppData\\Local\\Temp\\ipykernel_20456\\411763421.py:10: SettingWithCopyWarning: \n",
      "A value is trying to be set on a copy of a slice from a DataFrame.\n",
      "Try using .loc[row_indexer,col_indexer] = value instead\n",
      "\n",
      "See the caveats in the documentation: https://pandas.pydata.org/pandas-docs/stable/user_guide/indexing.html#returning-a-view-versus-a-copy\n",
      "  df_fato_fcx_gold['data_emissão'] = pd.to_datetime(df_fato_fcx_gold['data_emissão'])\n",
      "C:\\Users\\andre\\AppData\\Local\\Temp\\ipykernel_20456\\411763421.py:13: SettingWithCopyWarning: \n",
      "A value is trying to be set on a copy of a slice from a DataFrame.\n",
      "Try using .loc[row_indexer,col_indexer] = value instead\n",
      "\n",
      "See the caveats in the documentation: https://pandas.pydata.org/pandas-docs/stable/user_guide/indexing.html#returning-a-view-versus-a-copy\n",
      "  df_fato_fcx_gold['Ano'] = df_fato_fcx_gold['data_emissão'].dt.year\n",
      "C:\\Users\\andre\\AppData\\Local\\Temp\\ipykernel_20456\\411763421.py:14: SettingWithCopyWarning: \n",
      "A value is trying to be set on a copy of a slice from a DataFrame.\n",
      "Try using .loc[row_indexer,col_indexer] = value instead\n",
      "\n",
      "See the caveats in the documentation: https://pandas.pydata.org/pandas-docs/stable/user_guide/indexing.html#returning-a-view-versus-a-copy\n",
      "  df_fato_fcx_gold['Mes'] = df_fato_fcx_gold['data_emissão'].dt.month\n"
     ]
    }
   ],
   "source": [
    "import os\n",
    "import pandas as pd\n",
    "\n",
    "# Exemplo de silver_path armazenado\n",
    "gold_path = r\"C:\\Fonte Dados\\fcx\\gold\"\n",
    "subpasta = 'transacoes'\n",
    "pasta_completa = os.path.join(gold_path, subpasta)\n",
    "\n",
    "# Certifique-se de que a coluna 'data_emissão' esteja no formato datetime\n",
    "df_fato_fcx_gold['data_emissão'] = pd.to_datetime(df_fato_fcx_gold['data_emissão'])\n",
    "\n",
    "# Adiciona colunas de Ano e Mês\n",
    "df_fato_fcx_gold['Ano'] = df_fato_fcx_gold['data_emissão'].dt.year\n",
    "df_fato_fcx_gold['Mes'] = df_fato_fcx_gold['data_emissão'].dt.month\n",
    "\n",
    "# Salva o arquivo parquet particionado automaticamente\n",
    "df_fato_fcx_gold.to_parquet(\n",
    "    pasta_completa,\n",
    "    index=False,\n",
    "    partition_cols=['Ano', 'Mes'],\n",
    "    engine='pyarrow'  # Certifique-se de que o PyArrow está instalado\n",
    ")\n",
    "\n",
    "print(f\"Arquivo salvo particionado em: {pasta_completa}\")\n"
   ]
  },
  {
   "cell_type": "markdown",
   "metadata": {},
   "source": [
    "## Consulta Particao"
   ]
  },
  {
   "cell_type": "code",
   "execution_count": 89,
   "metadata": {},
   "outputs": [
    {
     "name": "stdout",
     "output_type": "stream",
     "text": [
      "      documento  pessoa_sk  td_sk  cp_sk   valor data_emissão data_vencimento  \\\n",
      "0            22        366      2      2  452611   2023-05-24      2023-07-18   \n",
      "1            32        356      2      1  283944   2023-05-05      2024-01-23   \n",
      "2            77        408      1      2  833074   2023-05-31      2025-11-04   \n",
      "3           105         50      1      1  780365   2023-05-02      2024-12-27   \n",
      "4           142        354      2      2  422324   2023-05-28      2024-03-04   \n",
      "...         ...        ...    ...    ...     ...          ...             ...   \n",
      "4185      99919        372      1      2  282302   2023-05-29      2025-06-10   \n",
      "4186      99924        507      1      2  419125   2023-05-25      2025-05-17   \n",
      "4187      99961        454      1      1   65300   2023-05-17      2024-09-15   \n",
      "4188      99971         53      2      1  208392   2023-05-08      2025-12-06   \n",
      "4189      99988        327      2      1  387179   2023-05-24      2023-09-04   \n",
      "\n",
      "     data_pagamento  \n",
      "0        2023-07-04  \n",
      "1        2025-10-07  \n",
      "2        2023-06-13  \n",
      "3        2023-05-06  \n",
      "4        2025-10-26  \n",
      "...             ...  \n",
      "4185     2025-06-12  \n",
      "4186     2025-04-30  \n",
      "4187     2023-07-09  \n",
      "4188     2023-09-24  \n",
      "4189     2025-07-28  \n",
      "\n",
      "[4190 rows x 8 columns]\n"
     ]
    }
   ],
   "source": [
    "import pandas as pd\n",
    "import os\n",
    "\n",
    "# Caminho base da pasta gold\n",
    "gold_path = r\"C:\\Fonte Dados\\fcx\\gold\"\n",
    "subpasta = 'transacoes'\n",
    "\n",
    "# Caminho da partição específica (Ano=2023/Mes=5)\n",
    "caminho_particao = os.path.join(gold_path, subpasta, \"Ano=2023\", \"Mes=5\")\n",
    "\n",
    "# Lê os arquivos Parquet na partição\n",
    "df_fato_gold_2023_5 = pd.read_parquet(caminho_particao)\n",
    "\n",
    "# Exibe o DataFrame resultante\n",
    "print(df_fato_gold_2023_5)\n"
   ]
  },
  {
   "cell_type": "code",
   "execution_count": 90,
   "metadata": {},
   "outputs": [
    {
     "name": "stdout",
     "output_type": "stream",
     "text": [
      "Index(['documento', 'cod_clifor', 'tipo_doc', 'valor', 'data_emissão',\n",
      "       'data_vencimento', 'data_pagamento', 'condicao_pagamento', 'Ano', 'Mes',\n",
      "       'nomeclifor', 'pessoa_sk', 'cp_sk', 'td_sk'],\n",
      "      dtype='object')\n",
      "Index(['documento', 'pessoa_sk', 'td_sk', 'cp_sk', 'valor', 'data_emissão',\n",
      "       'data_vencimento', 'data_pagamento', 'Ano', 'Mes'],\n",
      "      dtype='object')\n",
      "Index(['cod_clifor', 'nomeclifor', 'pessoa_sk'], dtype='object')\n"
     ]
    }
   ],
   "source": [
    "print(df_fato_fcx.columns)\n",
    "print(df_fato_fcx_gold.columns)\n",
    "print(df_pessoas.columns)"
   ]
  },
  {
   "cell_type": "markdown",
   "metadata": {},
   "source": [
    "### 1. Verifique a unicidade das chaves antes do merge\n",
    "Use o código abaixo para verificar se as chaves usadas no merge são únicas em cada DataFrame:\n"
   ]
  },
  {
   "cell_type": "code",
   "execution_count": 91,
   "metadata": {},
   "outputs": [
    {
     "name": "stdout",
     "output_type": "stream",
     "text": [
      "Duplicatas em df_fato_fcx: True\n",
      "Duplicatas em df_pessoas: False\n",
      "Duplicatas em df_condicao_pagamento: False\n",
      "Duplicatas em df_tipo_doc: False\n"
     ]
    }
   ],
   "source": [
    "\n",
    "# Verifica duplicatas nas chaves\n",
    "print(\"Duplicatas em df_fato_fcx:\", not df_fato_fcx['cod_clifor'].is_unique)\n",
    "print(\"Duplicatas em df_pessoas:\", not df_pessoas['cod_clifor'].is_unique)\n",
    "print(\"Duplicatas em df_condicao_pagamento:\", not df_condicao_pagamento['condicao_pagamento'].is_unique)\n",
    "print(\"Duplicatas em df_tipo_doc:\", not df_tipo_doc['tipo_doc'].is_unique)\n"
   ]
  },
  {
   "cell_type": "code",
   "execution_count": 95,
   "metadata": {},
   "outputs": [
    {
     "data": {
      "text/plain": [
       "(535, 3)"
      ]
     },
     "execution_count": 95,
     "metadata": {},
     "output_type": "execute_result"
    }
   ],
   "source": [
    "df_pessoas.shape"
   ]
  },
  {
   "cell_type": "code",
   "execution_count": 94,
   "metadata": {},
   "outputs": [
    {
     "data": {
      "text/plain": [
       "<bound method NDFrame.describe of      cod_clifor           nomeclifor  pessoa_sk\n",
       "0             1      Larissa da Cruz          1\n",
       "1             2        João Teixeira          2\n",
       "2             3       Lorenzo Santos          3\n",
       "3             4  Maria Cecília Nunes          4\n",
       "4             5   Guilherme da Cunha          5\n",
       "..          ...                  ...        ...\n",
       "530         531         Lucas Aragão        531\n",
       "531         532        Arthur Santos        532\n",
       "532         533        Luara Costela        533\n",
       "533         534         Milena Alves        534\n",
       "534         535     Sra. Liz da Cruz        535\n",
       "\n",
       "[535 rows x 3 columns]>"
      ]
     },
     "execution_count": 94,
     "metadata": {},
     "output_type": "execute_result"
    }
   ],
   "source": [
    "df_pessoas.describe"
   ]
  },
  {
   "cell_type": "code",
   "execution_count": 96,
   "metadata": {},
   "outputs": [
    {
     "data": {
      "text/plain": [
       "<bound method NDFrame.sample of      cod_clifor           nomeclifor  pessoa_sk\n",
       "0             1      Larissa da Cruz          1\n",
       "1             2        João Teixeira          2\n",
       "2             3       Lorenzo Santos          3\n",
       "3             4  Maria Cecília Nunes          4\n",
       "4             5   Guilherme da Cunha          5\n",
       "..          ...                  ...        ...\n",
       "530         531         Lucas Aragão        531\n",
       "531         532        Arthur Santos        532\n",
       "532         533        Luara Costela        533\n",
       "533         534         Milena Alves        534\n",
       "534         535     Sra. Liz da Cruz        535\n",
       "\n",
       "[535 rows x 3 columns]>"
      ]
     },
     "execution_count": 96,
     "metadata": {},
     "output_type": "execute_result"
    }
   ],
   "source": [
    "df_pessoas.sample"
   ]
  },
  {
   "cell_type": "code",
   "execution_count": 97,
   "metadata": {},
   "outputs": [
    {
     "data": {
      "text/plain": [
       "<bound method DataFrame.info of        documento  pessoa_sk  td_sk  cp_sk   valor data_emissão  \\\n",
       "0             90         90      1      2  564072   2023-01-29   \n",
       "1            115        245      2      1  226841   2023-01-20   \n",
       "2            145        402      1      2  337824   2023-01-19   \n",
       "3            184        254      1      1   80057   2023-01-26   \n",
       "4            203        375      2      1  372949   2023-01-21   \n",
       "...          ...        ...    ...    ...     ...          ...   \n",
       "99995      99886        155      2      1  611973   2025-01-14   \n",
       "99996      99902        370      2      2  724024   2025-01-02   \n",
       "99997      99913        497      1      1  879713   2025-01-13   \n",
       "99998      99976        111      1      2  869196   2025-01-02   \n",
       "99999      99979        494      1      2  697479   2025-01-02   \n",
       "\n",
       "      data_vencimento data_pagamento   Ano  Mes  \n",
       "0          2024-12-18     2024-08-03  2023    1  \n",
       "1          2025-10-18     2023-08-01  2023    1  \n",
       "2          2024-06-22     2024-06-02  2023    1  \n",
       "3          2025-12-10     2023-07-24  2023    1  \n",
       "4          2024-11-22     2024-02-09  2023    1  \n",
       "...               ...            ...   ...  ...  \n",
       "99995      2025-05-12     2025-03-09  2025    1  \n",
       "99996      2025-10-11     2025-06-03  2025    1  \n",
       "99997      2025-09-14     2025-05-25  2025    1  \n",
       "99998      2025-09-20     2025-02-10  2025    1  \n",
       "99999      2025-01-02     2025-06-13  2025    1  \n",
       "\n",
       "[100000 rows x 10 columns]>"
      ]
     },
     "execution_count": 97,
     "metadata": {},
     "output_type": "execute_result"
    }
   ],
   "source": [
    "df_fato_fcx_gold.info"
   ]
  },
  {
   "cell_type": "code",
   "execution_count": null,
   "metadata": {},
   "outputs": [],
   "source": []
  }
 ],
 "metadata": {
  "kernelspec": {
   "display_name": "Python 3",
   "language": "python",
   "name": "python3"
  },
  "language_info": {
   "codemirror_mode": {
    "name": "ipython",
    "version": 3
   },
   "file_extension": ".py",
   "mimetype": "text/x-python",
   "name": "python",
   "nbconvert_exporter": "python",
   "pygments_lexer": "ipython3",
   "version": "3.11.9"
  }
 },
 "nbformat": 4,
 "nbformat_minor": 2
}
