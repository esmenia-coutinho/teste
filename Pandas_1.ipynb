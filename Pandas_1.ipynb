{
 "cells": [
  {
   "cell_type": "markdown",
   "metadata": {},
   "source": [
    "### Pandas -  Cleaning Data\n",
    "Limpeza de dados\n",
    "Limpeza de dados significa consertar dados ruins em seu conjunto de dados.\n",
    "\n",
    "Dados ruins podem ser:\n",
    "\n",
    "### Células vazias\n",
    "### Dados em formato errado\n",
    "### Dados errados\n",
    "### Duplicatas"
   ]
  },
  {
   "cell_type": "markdown",
   "metadata": {},
   "source": [
    "### O conjunto de dados contém algumas células vazias (\"Data\" na linha 22 e \"Calorias\" nas linhas 18 e 28).\n",
    "\n",
    "### O conjunto de dados contém formato errado (\"Data\" na linha 26).\n",
    "\n",
    "### O conjunto de dados contém dados errados (\"Duração\" na linha 7).\n",
    "\n",
    "### O conjunto de dados contém duplicatas (linhas 11 e 12).\n",
    "    Duration          Date  Pulse  Maxpulse  Calories\n",
    "  0         60  '2020/12/01'    110       130     409.1\n",
    "  1         60  '2020/12/02'    117       145     479.0\n",
    "  2         60  '2020/12/03'    103       135     340.0\n",
    "  3         45  '2020/12/04'    109       175     282.4\n",
    "  4         45  '2020/12/05'    117       148     406.0\n",
    "  5         60  '2020/12/06'    102       127     300.0\n",
    "  6         60  '2020/12/07'    110       136     374.0\n",
    "  7        450  '2020/12/08'    104       134     253.3\n",
    "  8         30  '2020/12/09'    109       133     195.1\n",
    "  9         60  '2020/12/10'     98       124     269.0\n",
    "  10        60  '2020/12/11'    103       147     329.3\n",
    "  11        60  '2020/12/12'    100       120     250.7\n",
    "  12        60  '2020/12/12'    100       120     250.7\n",
    "  13        60  '2020/12/13'    106       128     345.3\n",
    "  14        60  '2020/12/14'    104       132     379.3\n",
    "  15        60  '2020/12/15'     98       123     275.0\n",
    "  16        60  '2020/12/16'     98       120     215.2\n",
    "  17        60  '2020/12/17'    100       120     300.0\n",
    "  18        45  '2020/12/18'     90       112       NaN\n",
    "  19        60  '2020/12/19'    103       123     323.0\n",
    "  20        45  '2020/12/20'     97       125     243.0\n",
    "  21        60  '2020/12/21'    108       131     364.2\n",
    "  22        45           NaN    100       119     282.0\n",
    "  23        60  '2020/12/23'    130       101     300.0\n",
    "  24        45  '2020/12/24'    105       132     246.0\n",
    "  25        60  '2020/12/25'    102       126     334.5\n",
    "  26        60    2020/12/26    100       120     250.0\n",
    "  27        60  '2020/12/27'     92       118     241.0\n",
    "  28        60  '2020/12/28'    103       132       NaN\n",
    "  29        60  '2020/12/29'    100       132     280.0\n",
    "  30        60  '2020/12/30'    102       129     380.3\n",
    "  31        60  '2020/12/31'     92       115     243.0"
   ]
  },
  {
   "cell_type": "markdown",
   "metadata": {},
   "source": []
  },
  {
   "cell_type": "markdown",
   "metadata": {},
   "source": [
    "### Pandas - Limpando células vazias\n",
    "# Células vazias\n",
    "Células vazias podem potencialmente dar a você um resultado errado quando você analisa dados.\n",
    "\n",
    "# Remover linhas\n",
    "Uma maneira de lidar com células vazias é remover linhas que contêm células vazias.\n",
    "\n",
    "Isso geralmente é OK, já que conjuntos de dados podem ser muito grandes, e remover algumas linhas não terá um grande impacto no resultado."
   ]
  },
  {
   "cell_type": "code",
   "execution_count": 1,
   "metadata": {},
   "outputs": [
    {
     "name": "stdout",
     "output_type": "stream",
     "text": [
      "    Duracao        Data  Pulso  Maxpulso  Calorias\n",
      "0        60  2020/12/01    110       130     409.1\n",
      "1        60  2020/12/02    117       145     479.0\n",
      "2        60  2020/12/03    103       135     340.0\n",
      "3        45  2020/12/04    109       175     282.4\n",
      "4        45  2020/12/05    117       148     406.0\n",
      "5        60  2020/12/06    102       127     300.0\n",
      "6        60  2020/12/07    110       136     374.0\n",
      "7       450  2020/12/08    104       134     253.3\n",
      "8        30  2020/12/09    109       133     195.1\n",
      "9        60  2020/12/10     98       124     269.0\n",
      "10       60  2020/12/11    103       147     329.3\n",
      "11       60  2020/12/12    100       120     250.7\n",
      "12       60  2020/12/12    100       120     250.7\n",
      "13       60  2020/12/13    106       128     345.3\n",
      "14       60  2020/12/14    104       132     379.3\n",
      "15       60  2020/12/15     98       123     275.0\n",
      "16       60  2020/12/16     98       120     215.2\n",
      "17       60  2020/12/17    100       120     300.0\n",
      "19       60  2020/12/19    103       123     323.0\n",
      "20       45  2020/12/20     97       125     243.0\n",
      "21       60  2020/12/21    108       131     364.2\n",
      "23       60  2020/12/23    130       101     300.0\n",
      "24       60  2020/12/24    105       132     246.0\n",
      "25       60  2020/12/25    102       126     334.5\n",
      "26       60  2020/12/26    100       120     250.0\n",
      "27       60  2020/12/27     92       118     241.0\n",
      "29       60  2020/12/29    100       132     280.0\n",
      "30       60  2020/12/30    102       129     380.3\n",
      "31       60  2020/12/31     92       115     243.0\n"
     ]
    }
   ],
   "source": [
    "import pandas as pd\n",
    "\n",
    "df = pd.read_csv(r\"C:\\Fonte Dados\\pandas\\001_Pandas_operacoes.txt\")\n",
    "\n",
    "new_df = df.dropna()\n",
    "\n",
    "print(new_df.to_string())"
   ]
  },
  {
   "cell_type": "markdown",
   "metadata": {},
   "source": [
    "#### O conjunto de dados contém algumas células vazias (\"Data\" na linha 22 e \"Calorias\" nas linhas 18 e 28).\n",
    "\n",
    "#### O conjunto de dados contém formato errado (\"Data\" na linha 26).\n",
    "\n",
    "#### O conjunto de dados contém dados errados (\"Duração\" na linha 7).\n",
    "\n",
    "#### O conjunto de dados contém duplicatas (linhas 11 e 12)."
   ]
  },
  {
   "cell_type": "markdown",
   "metadata": {},
   "source": [
    "## Se você quiser alterar o DataFrame original, use o argumento inplace = True:"
   ]
  },
  {
   "cell_type": "code",
   "execution_count": 4,
   "metadata": {},
   "outputs": [
    {
     "name": "stdout",
     "output_type": "stream",
     "text": [
      "    Duracao        Data  Pulso  Maxpulso  Calorias\n",
      "0        60  2020/12/01    110       130     409.1\n",
      "1        60  2020/12/02    117       145     479.0\n",
      "2        60  2020/12/03    103       135     340.0\n",
      "3        45  2020/12/04    109       175     282.4\n",
      "4        45  2020/12/05    117       148     406.0\n",
      "5        60  2020/12/06    102       127     300.0\n",
      "6        60  2020/12/07    110       136     374.0\n",
      "7       450  2020/12/08    104       134     253.3\n",
      "8        30  2020/12/09    109       133     195.1\n",
      "9        60  2020/12/10     98       124     269.0\n",
      "10       60  2020/12/11    103       147     329.3\n",
      "11       60  2020/12/12    100       120     250.7\n",
      "12       60  2020/12/12    100       120     250.7\n",
      "13       60  2020/12/13    106       128     345.3\n",
      "14       60  2020/12/14    104       132     379.3\n",
      "15       60  2020/12/15     98       123     275.0\n",
      "16       60  2020/12/16     98       120     215.2\n",
      "17       60  2020/12/17    100       120     300.0\n",
      "19       60  2020/12/19    103       123     323.0\n",
      "20       45  2020/12/20     97       125     243.0\n",
      "21       60  2020/12/21    108       131     364.2\n",
      "23       60  2020/12/23    130       101     300.0\n",
      "24       60  2020/12/24    105       132     246.0\n",
      "25       60  2020/12/25    102       126     334.5\n",
      "26       60  2020/12/26    100       120     250.0\n",
      "27       60  2020/12/27     92       118     241.0\n",
      "29       60  2020/12/29    100       132     280.0\n",
      "30       60  2020/12/30    102       129     380.3\n",
      "31       60  2020/12/31     92       115     243.0\n"
     ]
    }
   ],
   "source": [
    "import pandas as pd\n",
    "\n",
    "df = pd.read_csv(r\"C:\\Fonte Dados\\pandas\\001_Pandas_operacoes.txt\")\n",
    "\n",
    "df.dropna(inplace = True)\n",
    "\n",
    "print(df.to_string())"
   ]
  },
  {
   "cell_type": "markdown",
   "metadata": {},
   "source": [
    "## Observação: Aplicando o  dropna(inplace = True) NÃO retornará um novo DataFrame, \n",
    "## mas removerá todas as linhas que contêm valores NULL do DataFrame original."
   ]
  },
  {
   "cell_type": "markdown",
   "metadata": {},
   "source": [
    "# Substituir Valores Vazios\n",
    "Outra maneira de lidar com células vazias é inserir um novo valor.\n",
    "\n",
    "Dessa forma, você não precisa excluir linhas inteiras só por causa de algumas células vazias.\n",
    "\n",
    "O método fillna() nos permite substituir células vazias por um valor:"
   ]
  },
  {
   "cell_type": "code",
   "execution_count": 5,
   "metadata": {},
   "outputs": [
    {
     "name": "stdout",
     "output_type": "stream",
     "text": [
      "    Duracao        Data  Pulso  Maxpulso  Calorias\n",
      "0        60  2020/12/01    110       130     409.1\n",
      "1        60  2020/12/02    117       145     479.0\n",
      "2        60  2020/12/03    103       135     340.0\n",
      "3        45  2020/12/04    109       175     282.4\n",
      "4        45  2020/12/05    117       148     406.0\n",
      "5        60  2020/12/06    102       127     300.0\n",
      "6        60  2020/12/07    110       136     374.0\n",
      "7       450  2020/12/08    104       134     253.3\n",
      "8        30  2020/12/09    109       133     195.1\n",
      "9        60  2020/12/10     98       124     269.0\n",
      "10       60  2020/12/11    103       147     329.3\n",
      "11       60  2020/12/12    100       120     250.7\n",
      "12       60  2020/12/12    100       120     250.7\n",
      "13       60  2020/12/13    106       128     345.3\n",
      "14       60  2020/12/14    104       132     379.3\n",
      "15       60  2020/12/15     98       123     275.0\n",
      "16       60  2020/12/16     98       120     215.2\n",
      "17       60  2020/12/17    100       120     300.0\n",
      "18       45  2020/12/18     90       112     130.0\n",
      "19       60  2020/12/19    103       123     323.0\n",
      "20       45  2020/12/20     97       125     243.0\n",
      "21       60  2020/12/21    108       131     364.2\n",
      "22       45         130    100       119     282.0\n",
      "23       60  2020/12/23    130       101     300.0\n",
      "24       60  2020/12/24    105       132     246.0\n",
      "25       60  2020/12/25    102       126     334.5\n",
      "26       60  2020/12/26    100       120     250.0\n",
      "27       60  2020/12/27     92       118     241.0\n",
      "28       60  2020/12/28    103       132     130.0\n",
      "29       60  2020/12/29    100       132     280.0\n",
      "30       60  2020/12/30    102       129     380.3\n",
      "31       60  2020/12/31     92       115     243.0\n"
     ]
    }
   ],
   "source": [
    "import pandas as pd\n",
    "\n",
    "df = pd.read_csv(r\"C:\\Fonte Dados\\pandas\\001_Pandas_operacoes.txt\")\n",
    "\n",
    "df.fillna(130, inplace = True)\n",
    "\n",
    "print(df.to_string())"
   ]
  },
  {
   "cell_type": "markdown",
   "metadata": {},
   "source": [
    "# Substituir somente para colunas especificadas\n",
    "O exemplo acima substitui todas as células vazias em todo o Data Frame.\n",
    "\n",
    "Para substituir somente valores vazios para uma coluna, especifique o nome da coluna para o DataFrame:"
   ]
  },
  {
   "cell_type": "code",
   "execution_count": 6,
   "metadata": {},
   "outputs": [
    {
     "name": "stdout",
     "output_type": "stream",
     "text": [
      "    Duracao        Data  Pulso  Maxpulso  Calorias\n",
      "0        60  2020/12/01    110       130     409.1\n",
      "1        60  2020/12/02    117       145     479.0\n",
      "2        60  2020/12/03    103       135     340.0\n",
      "3        45  2020/12/04    109       175     282.4\n",
      "4        45  2020/12/05    117       148     406.0\n",
      "5        60  2020/12/06    102       127     300.0\n",
      "6        60  2020/12/07    110       136     374.0\n",
      "7       450  2020/12/08    104       134     253.3\n",
      "8        30  2020/12/09    109       133     195.1\n",
      "9        60  2020/12/10     98       124     269.0\n",
      "10       60  2020/12/11    103       147     329.3\n",
      "11       60  2020/12/12    100       120     250.7\n",
      "12       60  2020/12/12    100       120     250.7\n",
      "13       60  2020/12/13    106       128     345.3\n",
      "14       60  2020/12/14    104       132     379.3\n",
      "15       60  2020/12/15     98       123     275.0\n",
      "16       60  2020/12/16     98       120     215.2\n",
      "17       60  2020/12/17    100       120     300.0\n",
      "18       45  2020/12/18     90       112     130.0\n",
      "19       60  2020/12/19    103       123     323.0\n",
      "20       45  2020/12/20     97       125     243.0\n",
      "21       60  2020/12/21    108       131     364.2\n",
      "22       45         NaN    100       119     282.0\n",
      "23       60  2020/12/23    130       101     300.0\n",
      "24       60  2020/12/24    105       132     246.0\n",
      "25       60  2020/12/25    102       126     334.5\n",
      "26       60  2020/12/26    100       120     250.0\n",
      "27       60  2020/12/27     92       118     241.0\n",
      "28       60  2020/12/28    103       132     130.0\n",
      "29       60  2020/12/29    100       132     280.0\n",
      "30       60  2020/12/30    102       129     380.3\n",
      "31       60  2020/12/31     92       115     243.0\n"
     ]
    },
    {
     "name": "stderr",
     "output_type": "stream",
     "text": [
      "C:\\Users\\andre\\AppData\\Local\\Temp\\ipykernel_23292\\1144922691.py:5: FutureWarning: A value is trying to be set on a copy of a DataFrame or Series through chained assignment using an inplace method.\n",
      "The behavior will change in pandas 3.0. This inplace method will never work because the intermediate object on which we are setting values always behaves as a copy.\n",
      "\n",
      "For example, when doing 'df[col].method(value, inplace=True)', try using 'df.method({col: value}, inplace=True)' or df[col] = df[col].method(value) instead, to perform the operation inplace on the original object.\n",
      "\n",
      "\n",
      "  df[\"Calorias\"].fillna(130, inplace = True)\n"
     ]
    }
   ],
   "source": [
    "import pandas as pd\n",
    "\n",
    "df = pd.read_csv(r\"C:\\Fonte Dados\\pandas\\001_Pandas_operacoes.txt\")\n",
    "\n",
    "df[\"Calorias\"].fillna(130, inplace = True)\n",
    "\n",
    "print(df.to_string())"
   ]
  },
  {
   "cell_type": "markdown",
   "metadata": {},
   "source": [
    "# Dados de Formato Errado\n",
    "Células com dados de formato errado podem dificultar, ou até mesmo impossibilitar, a análise de dados.\n",
    "\n",
    "Para consertar, você tem duas opções: remover as linhas ou converter todas as células nas colunas para o mesmo formato."
   ]
  },
  {
   "cell_type": "markdown",
   "metadata": {},
   "source": [
    "# Converter em um formato correto\n",
    "Em nosso Data Frame, temos duas células com o formato errado. Verifique as linhas 22 e 26, a coluna 'Date' deve ser uma string que representa uma data:"
   ]
  },
  {
   "cell_type": "code",
   "execution_count": 1,
   "metadata": {},
   "outputs": [
    {
     "name": "stdout",
     "output_type": "stream",
     "text": [
      "    Duracao        Data  Pulso  Maxpulso  Calorias       Date\n",
      "0        60  2020/12/01    110       130     409.1 2020-12-01\n",
      "1        60  2020/12/02    117       145     479.0 2020-12-02\n",
      "2        60  2020/12/03    103       135     340.0 2020-12-03\n",
      "3        45  2020/12/04    109       175     282.4 2020-12-04\n",
      "4        45  2020/12/05    117       148     406.0 2020-12-05\n",
      "5        60  2020/12/06    102       127     300.0 2020-12-06\n",
      "6        60  2020/12/07    110       136     374.0 2020-12-07\n",
      "7       450  2020/12/08    104       134     253.3 2020-12-08\n",
      "8        30  2020/12/09    109       133     195.1 2020-12-09\n",
      "9        60  2020/12/10     98       124     269.0 2020-12-10\n",
      "10       60  2020/12/11    103       147     329.3 2020-12-11\n",
      "11       60  2020/12/12    100       120     250.7 2020-12-12\n",
      "12       60  2020/12/12    100       120     250.7 2020-12-12\n",
      "13       60  2020/12/13    106       128     345.3 2020-12-13\n",
      "14       60  2020/12/14    104       132     379.3 2020-12-14\n",
      "15       60  2020/12/15     98       123     275.0 2020-12-15\n",
      "16       60  2020/12/16     98       120     215.2 2020-12-16\n",
      "17       60  2020/12/17    100       120     300.0 2020-12-17\n",
      "18       45  2020/12/18     90       112       NaN 2020-12-18\n",
      "19       60  2020/12/19    103       123     323.0 2020-12-19\n",
      "20       45  2020/12/20     97       125     243.0 2020-12-20\n",
      "21       60  2020/12/21    108       131     364.2 2020-12-21\n",
      "22       45         NaN    100       119     282.0        NaT\n",
      "23       60  2020/12/23    130       101     300.0 2020-12-23\n",
      "24       60  2020/12/24    105       132     246.0 2020-12-24\n",
      "25       60  2020/12/25    102       126     334.5 2020-12-25\n",
      "26       60  2020/12/26    100       120     250.0 2020-12-26\n",
      "27       60  2020/12/27     92       118     241.0 2020-12-27\n",
      "28       60  2020/12/28    103       132       NaN 2020-12-28\n",
      "29       60  2020/12/29    100       132     280.0 2020-12-29\n",
      "30       60  2020/12/30    102       129     380.3 2020-12-30\n",
      "31       60  2020/12/31     92       115     243.0 2020-12-31\n"
     ]
    }
   ],
   "source": [
    "import pandas as pd\n",
    "\n",
    "df = pd.read_csv(r\"C:\\Fonte Dados\\pandas\\001_Pandas_operacoes.txt\")\n",
    "\n",
    "df['Date'] = pd.to_datetime(df['Data'])\n",
    "\n",
    "print(df.to_string())"
   ]
  },
  {
   "cell_type": "markdown",
   "metadata": {},
   "source": [
    "# Removendo Linhas\n",
    "O resultado da conversão no exemplo acima nos deu um valor NaT, que pode ser tratado como um valor NULL, e podemos remover a linha usando o método dropna()."
   ]
  },
  {
   "cell_type": "code",
   "execution_count": 9,
   "metadata": {},
   "outputs": [
    {
     "name": "stdout",
     "output_type": "stream",
     "text": [
      "    Duracao        Data  Pulso  Maxpulso  Calorias       Date\n",
      "0        60  2020/12/01    110       130     409.1 2020-12-01\n",
      "1        60  2020/12/02    117       145     479.0 2020-12-02\n",
      "2        60  2020/12/03    103       135     340.0 2020-12-03\n",
      "3        45  2020/12/04    109       175     282.4 2020-12-04\n",
      "4        45  2020/12/05    117       148     406.0 2020-12-05\n",
      "5        60  2020/12/06    102       127     300.0 2020-12-06\n",
      "6        60  2020/12/07    110       136     374.0 2020-12-07\n",
      "7       450  2020/12/08    104       134     253.3 2020-12-08\n",
      "8        30  2020/12/09    109       133     195.1 2020-12-09\n",
      "9        60  2020/12/10     98       124     269.0 2020-12-10\n",
      "10       60  2020/12/11    103       147     329.3 2020-12-11\n",
      "11       60  2020/12/12    100       120     250.7 2020-12-12\n",
      "12       60  2020/12/12    100       120     250.7 2020-12-12\n",
      "13       60  2020/12/13    106       128     345.3 2020-12-13\n",
      "14       60  2020/12/14    104       132     379.3 2020-12-14\n",
      "15       60  2020/12/15     98       123     275.0 2020-12-15\n",
      "16       60  2020/12/16     98       120     215.2 2020-12-16\n",
      "17       60  2020/12/17    100       120     300.0 2020-12-17\n",
      "18       45  2020/12/18     90       112       NaN 2020-12-18\n",
      "19       60  2020/12/19    103       123     323.0 2020-12-19\n",
      "20       45  2020/12/20     97       125     243.0 2020-12-20\n",
      "21       60  2020/12/21    108       131     364.2 2020-12-21\n",
      "23       60  2020/12/23    130       101     300.0 2020-12-23\n",
      "24       60  2020/12/24    105       132     246.0 2020-12-24\n",
      "25       60  2020/12/25    102       126     334.5 2020-12-25\n",
      "26       60  2020/12/26    100       120     250.0 2020-12-26\n",
      "27       60  2020/12/27     92       118     241.0 2020-12-27\n",
      "28       60  2020/12/28    103       132       NaN 2020-12-28\n",
      "29       60  2020/12/29    100       132     280.0 2020-12-29\n",
      "30       60  2020/12/30    102       129     380.3 2020-12-30\n",
      "31       60  2020/12/31     92       115     243.0 2020-12-31\n"
     ]
    }
   ],
   "source": [
    "df.dropna(subset=['Date'], inplace = True)\n",
    "print(df.to_string())"
   ]
  },
  {
   "cell_type": "markdown",
   "metadata": {},
   "source": [
    "# Dados Errados\n",
    "\"Dados Errados\" não precisam ser \"células vazias\" ou \"formato errado\", podem estar errados, como se alguém registrasse \"199\" em vez de \"1,99\".\n",
    "\n",
    "Às vezes, você pode identificar dados errados olhando para o conjunto de dados, porque você tem uma expectativa do que deveria ser.\n",
    "\n",
    "Se você der uma olhada em nosso conjunto de dados, verá que na linha 7, a duração é 450, mas para todas as outras linhas a duração está entre 30 e 60.\n",
    "\n",
    "Não necessariamente estaa errado, mas levando em consideração que este é o conjunto de dados das sessões de treino de alguém, concluímos com o fato de que essa pessoa não treinou em 450 minutos."
   ]
  },
  {
   "cell_type": "markdown",
   "metadata": {},
   "source": [
    "# Substituindo Valores\n",
    "Uma maneira de corrigir valores errados é substituí-los por outra coisa.\n",
    "\n",
    "Em nosso exemplo, é mais provável que seja um erro de digitação, e o valor deveria ser \"45\" em vez de \"450\", e poderíamos simplesmente inserir \"45\" na linha 7:"
   ]
  },
  {
   "cell_type": "code",
   "execution_count": 11,
   "metadata": {},
   "outputs": [
    {
     "name": "stdout",
     "output_type": "stream",
     "text": [
      "    Duracao        Data  Pulso  Maxpulso  Calorias       Date  Duration\n",
      "0        60  2020/12/01    110       130     409.1 2020-12-01       NaN\n",
      "1        60  2020/12/02    117       145     479.0 2020-12-02       NaN\n",
      "2        60  2020/12/03    103       135     340.0 2020-12-03       NaN\n",
      "3        45  2020/12/04    109       175     282.4 2020-12-04       NaN\n",
      "4        45  2020/12/05    117       148     406.0 2020-12-05       NaN\n",
      "5        60  2020/12/06    102       127     300.0 2020-12-06       NaN\n",
      "6        60  2020/12/07    110       136     374.0 2020-12-07       NaN\n",
      "7        45  2020/12/08    104       134     253.3 2020-12-08      45.0\n",
      "8        30  2020/12/09    109       133     195.1 2020-12-09       NaN\n",
      "9        60  2020/12/10     98       124     269.0 2020-12-10       NaN\n",
      "10       60  2020/12/11    103       147     329.3 2020-12-11       NaN\n",
      "11       60  2020/12/12    100       120     250.7 2020-12-12       NaN\n",
      "12       60  2020/12/12    100       120     250.7 2020-12-12       NaN\n",
      "13       60  2020/12/13    106       128     345.3 2020-12-13       NaN\n",
      "14       60  2020/12/14    104       132     379.3 2020-12-14       NaN\n",
      "15       60  2020/12/15     98       123     275.0 2020-12-15       NaN\n",
      "16       60  2020/12/16     98       120     215.2 2020-12-16       NaN\n",
      "17       60  2020/12/17    100       120     300.0 2020-12-17       NaN\n",
      "18       45  2020/12/18     90       112       NaN 2020-12-18       NaN\n",
      "19       60  2020/12/19    103       123     323.0 2020-12-19       NaN\n",
      "20       45  2020/12/20     97       125     243.0 2020-12-20       NaN\n",
      "21       60  2020/12/21    108       131     364.2 2020-12-21       NaN\n",
      "23       60  2020/12/23    130       101     300.0 2020-12-23       NaN\n",
      "24       60  2020/12/24    105       132     246.0 2020-12-24       NaN\n",
      "25       60  2020/12/25    102       126     334.5 2020-12-25       NaN\n",
      "26       60  2020/12/26    100       120     250.0 2020-12-26       NaN\n",
      "27       60  2020/12/27     92       118     241.0 2020-12-27       NaN\n",
      "28       60  2020/12/28    103       132       NaN 2020-12-28       NaN\n",
      "29       60  2020/12/29    100       132     280.0 2020-12-29       NaN\n",
      "30       60  2020/12/30    102       129     380.3 2020-12-30       NaN\n",
      "31       60  2020/12/31     92       115     243.0 2020-12-31       NaN\n"
     ]
    }
   ],
   "source": [
    "df.loc[7, 'Duracao'] = 45\n",
    "print(df.to_string())"
   ]
  },
  {
   "cell_type": "markdown",
   "metadata": {},
   "source": [
    "# Removendo Linhas\n",
    "Outra maneira de lidar com dados errados é remover as linhas que contêm dados errados.\n",
    "\n",
    "Dessa forma, você não precisa descobrir com o que substituí-las, e há uma boa chance de você não precisar delas para fazer suas análises."
   ]
  },
  {
   "cell_type": "code",
   "execution_count": 12,
   "metadata": {},
   "outputs": [],
   "source": [
    "for x in df.index:\n",
    "  if df.loc[x, \"Duracao\"] > 120:\n",
    "    df.drop(x, inplace = True)"
   ]
  },
  {
   "cell_type": "code",
   "execution_count": 15,
   "metadata": {},
   "outputs": [
    {
     "name": "stdout",
     "output_type": "stream",
     "text": [
      "    Duracao        Data  Pulso  Maxpulso  Calorias       Date  Duration\n",
      "0        60  2020/12/01    110       130     409.1 2020-12-01       NaN\n",
      "1        60  2020/12/02    117       145     479.0 2020-12-02       NaN\n",
      "2        60  2020/12/03    103       135     340.0 2020-12-03       NaN\n",
      "3        45  2020/12/04    109       175     282.4 2020-12-04       NaN\n",
      "4        45  2020/12/05    117       148     406.0 2020-12-05       NaN\n",
      "5        60  2020/12/06    102       127     300.0 2020-12-06       NaN\n",
      "6        60  2020/12/07    110       136     374.0 2020-12-07       NaN\n",
      "7        45  2020/12/08    104       134     253.3 2020-12-08      45.0\n",
      "8        30  2020/12/09    109       133     195.1 2020-12-09       NaN\n",
      "9        60  2020/12/10     98       124     269.0 2020-12-10       NaN\n",
      "10       60  2020/12/11    103       147     329.3 2020-12-11       NaN\n",
      "11       60  2020/12/12    100       120     250.7 2020-12-12       NaN\n",
      "12       60  2020/12/12    100       120     250.7 2020-12-12       NaN\n",
      "13       60  2020/12/13    106       128     345.3 2020-12-13       NaN\n",
      "14       60  2020/12/14    104       132     379.3 2020-12-14       NaN\n",
      "15       60  2020/12/15     98       123     275.0 2020-12-15       NaN\n",
      "16       60  2020/12/16     98       120     215.2 2020-12-16       NaN\n",
      "17       60  2020/12/17    100       120     300.0 2020-12-17       NaN\n",
      "18       45  2020/12/18     90       112       NaN 2020-12-18       NaN\n",
      "19       60  2020/12/19    103       123     323.0 2020-12-19       NaN\n",
      "20       45  2020/12/20     97       125     243.0 2020-12-20       NaN\n",
      "21       60  2020/12/21    108       131     364.2 2020-12-21       NaN\n",
      "23       60  2020/12/23    130       101     300.0 2020-12-23       NaN\n",
      "24       60  2020/12/24    105       132     246.0 2020-12-24       NaN\n",
      "25       60  2020/12/25    102       126     334.5 2020-12-25       NaN\n",
      "26       60  2020/12/26    100       120     250.0 2020-12-26       NaN\n",
      "29       60  2020/12/29    100       132     280.0 2020-12-29       NaN\n",
      "30       60  2020/12/30    102       129     380.3 2020-12-30       NaN\n",
      "31       60  2020/12/31     92       115     243.0 2020-12-31       NaN\n"
     ]
    }
   ],
   "source": [
    "# Remover a linha com índice 28 \n",
    "df = df.drop(index=28)\n",
    "print(df.to_string())"
   ]
  },
  {
   "cell_type": "markdown",
   "metadata": {},
   "source": [
    "# Pandas - Removendo Duplicatas\n",
    "Descobrindo Duplicatas\n",
    "Linhas duplicadas são linhas que foram registradas mais de uma vez.\n",
    "Dando uma olhada em nosso conjunto de dados de teste, podemos assumir que as linhas 11 e 12 são duplicatas.\n",
    "\n",
    "Para descobrir duplicatas, podemos usar o método duplicated().\n",
    "\n",
    "O método duplicated() retorna valores booleanos para cada linha:"
   ]
  },
  {
   "cell_type": "code",
   "execution_count": 16,
   "metadata": {},
   "outputs": [
    {
     "name": "stdout",
     "output_type": "stream",
     "text": [
      "0     False\n",
      "1     False\n",
      "2     False\n",
      "3     False\n",
      "4     False\n",
      "5     False\n",
      "6     False\n",
      "7     False\n",
      "8     False\n",
      "9     False\n",
      "10    False\n",
      "11    False\n",
      "12     True\n",
      "13    False\n",
      "14    False\n",
      "15    False\n",
      "16    False\n",
      "17    False\n",
      "18    False\n",
      "19    False\n",
      "20    False\n",
      "21    False\n",
      "23    False\n",
      "24    False\n",
      "25    False\n",
      "26    False\n",
      "29    False\n",
      "30    False\n",
      "31    False\n",
      "dtype: bool\n"
     ]
    }
   ],
   "source": [
    "print(df.duplicated())"
   ]
  },
  {
   "cell_type": "markdown",
   "metadata": {},
   "source": [
    "# Removendo duplicatas\n",
    "Para remover duplicatas, use o método drop_duplicates()."
   ]
  },
  {
   "cell_type": "code",
   "execution_count": 18,
   "metadata": {},
   "outputs": [
    {
     "name": "stdout",
     "output_type": "stream",
     "text": [
      "    Duracao        Data  Pulso  Maxpulso  Calorias       Date  Duration\n",
      "0        60  2020/12/01    110       130     409.1 2020-12-01       NaN\n",
      "1        60  2020/12/02    117       145     479.0 2020-12-02       NaN\n",
      "2        60  2020/12/03    103       135     340.0 2020-12-03       NaN\n",
      "3        45  2020/12/04    109       175     282.4 2020-12-04       NaN\n",
      "4        45  2020/12/05    117       148     406.0 2020-12-05       NaN\n",
      "5        60  2020/12/06    102       127     300.0 2020-12-06       NaN\n",
      "6        60  2020/12/07    110       136     374.0 2020-12-07       NaN\n",
      "7        45  2020/12/08    104       134     253.3 2020-12-08      45.0\n",
      "8        30  2020/12/09    109       133     195.1 2020-12-09       NaN\n",
      "9        60  2020/12/10     98       124     269.0 2020-12-10       NaN\n",
      "10       60  2020/12/11    103       147     329.3 2020-12-11       NaN\n",
      "11       60  2020/12/12    100       120     250.7 2020-12-12       NaN\n",
      "13       60  2020/12/13    106       128     345.3 2020-12-13       NaN\n",
      "14       60  2020/12/14    104       132     379.3 2020-12-14       NaN\n",
      "15       60  2020/12/15     98       123     275.0 2020-12-15       NaN\n",
      "16       60  2020/12/16     98       120     215.2 2020-12-16       NaN\n",
      "17       60  2020/12/17    100       120     300.0 2020-12-17       NaN\n",
      "18       45  2020/12/18     90       112       NaN 2020-12-18       NaN\n",
      "19       60  2020/12/19    103       123     323.0 2020-12-19       NaN\n",
      "20       45  2020/12/20     97       125     243.0 2020-12-20       NaN\n",
      "21       60  2020/12/21    108       131     364.2 2020-12-21       NaN\n",
      "23       60  2020/12/23    130       101     300.0 2020-12-23       NaN\n",
      "24       60  2020/12/24    105       132     246.0 2020-12-24       NaN\n",
      "25       60  2020/12/25    102       126     334.5 2020-12-25       NaN\n",
      "26       60  2020/12/26    100       120     250.0 2020-12-26       NaN\n",
      "29       60  2020/12/29    100       132     280.0 2020-12-29       NaN\n",
      "30       60  2020/12/30    102       129     380.3 2020-12-30       NaN\n",
      "31       60  2020/12/31     92       115     243.0 2020-12-31       NaN\n"
     ]
    }
   ],
   "source": [
    "df.drop_duplicates(inplace = True)\n",
    "print(df.to_string())"
   ]
  },
  {
   "cell_type": "markdown",
   "metadata": {},
   "source": [
    "# Lembre-se: (inplace = True) \n",
    "Garantirá que o método NÃO retorne um novo DataFrame, mas removerá todas as duplicatas do DataFrame original."
   ]
  }
 ],
 "metadata": {
  "kernelspec": {
   "display_name": "Python 3",
   "language": "python",
   "name": "python3"
  },
  "language_info": {
   "codemirror_mode": {
    "name": "ipython",
    "version": 3
   },
   "file_extension": ".py",
   "mimetype": "text/x-python",
   "name": "python",
   "nbconvert_exporter": "python",
   "pygments_lexer": "ipython3",
   "version": "3.11.9"
  }
 },
 "nbformat": 4,
 "nbformat_minor": 2
}
